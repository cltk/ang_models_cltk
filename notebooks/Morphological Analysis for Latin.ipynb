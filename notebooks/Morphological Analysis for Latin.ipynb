{
 "cells": [
  {
   "cell_type": "markdown",
   "metadata": {},
   "source": [
    "# Morphological Analysis of Latin"
   ]
  },
  {
   "cell_type": "code",
   "execution_count": 1,
   "metadata": {},
   "outputs": [
    {
     "name": "stderr",
     "output_type": "stream",
     "text": [
      "Using TensorFlow backend.\n"
     ]
    }
   ],
   "source": [
    "import numpy as np\n",
    "import tensorflow as tf\n",
    "import keras.backend as K\n",
    "\n",
    "config = tf.ConfigProto(intra_op_parallelism_threads=8, \n",
    "                        inter_op_parallelism_threads=8,\n",
    "                        allow_soft_placement=True, \n",
    "                        device_count = {'CPU': 1})\n",
    "session = tf.Session(config=config)\n",
    "K.set_session(session)\n",
    "\n",
    "def load_corpus(filename, tagged=True):\n",
    "    with open(filename, \"r\") as f:\n",
    "        sentences = []\n",
    "        words = {}\n",
    "        for line in f:\n",
    "            sentence = []\n",
    "            pairs = line.rstrip('\\n').split(' ')\n",
    "            for pair in pairs:\n",
    "                if pair != '':\n",
    "                    if tagged == True:\n",
    "                        word, tag = pair.split('/')\n",
    "                        sentence.append((word, tag))\n",
    "                        words[(word, tag)] = words.get((word, tag), 0) + 1                    \n",
    "                    else:\n",
    "                        sentence.append(pair)\n",
    "                        words[pair] = words.get(pair, 0) + 1\n",
    "            sentences.append(sentence)\n",
    "\n",
    "\n",
    "        return words, sentences"
   ]
  },
  {
   "cell_type": "code",
   "execution_count": 2,
   "metadata": {},
   "outputs": [],
   "source": [
    "words, sents = load_corpus('../corpora/latin/latin.all_features')"
   ]
  },
  {
   "cell_type": "code",
   "execution_count": 3,
   "metadata": {},
   "outputs": [],
   "source": [
    "def build_alphabet(words):\n",
    "    alphabet = {}\n",
    "    max_word_len = 0\n",
    "    \n",
    "    for word in words:\n",
    "        max_word_len = max(len(word), max_word_len)\n",
    "        for letter in word:\n",
    "            alphabet[letter] = alphabet.get(letter, 0) + 1\n",
    "            \n",
    "    return list(alphabet.keys()), max_word_len"
   ]
  },
  {
   "cell_type": "code",
   "execution_count": 4,
   "metadata": {},
   "outputs": [
    {
     "data": {
      "text/plain": [
       "36"
      ]
     },
     "execution_count": 4,
     "metadata": {},
     "output_type": "execute_result"
    }
   ],
   "source": [
    "alpha, max_word_len = build_alphabet([word for word,_ in words.keys()])\n",
    "max_word_len"
   ]
  },
  {
   "cell_type": "code",
   "execution_count": 5,
   "metadata": {},
   "outputs": [
    {
     "name": "stdout",
     "output_type": "stream",
     "text": [
      "{1: 281, 2: 740, 3: 1369, 4: 1455, 5: 1515, 6: 1563, 7: 1333, 8: 1263, 9: 1133, 10: 1034, 11: 890, 12: 813, 13: 678, 14: 625, 15: 505, 16: 499, 17: 437, 18: 346, 19: 300, 20: 259, 21: 237, 22: 232, 23: 195, 24: 155, 25: 154, 26: 144, 27: 119, 28: 131, 29: 105, 30: 90, 31: 74, 32: 74, 33: 62, 34: 51, 35: 49, 36: 33, 37: 40, 38: 37, 39: 39, 40: 30, 41: 31, 42: 26, 43: 19, 44: 23, 45: 23, 46: 25, 47: 21, 48: 16, 49: 15, 50: 16, 51: 6, 52: 9, 53: 6, 54: 9, 55: 4, 56: 2, 57: 4, 58: 3, 59: 3, 60: 6, 61: 5, 62: 6, 63: 5, 64: 5, 65: 2, 66: 4, 67: 1, 68: 5, 69: 3, 70: 4, 72: 3, 73: 2, 74: 3, 75: 1, 76: 2, 77: 1, 80: 1, 81: 2, 82: 2, 85: 3, 88: 1, 90: 3, 91: 1, 100: 1, 144: 1, 163: 1, 237: 1}\n"
     ]
    }
   ],
   "source": [
    "lengths = np.sort([len(sent) for sent in sents])\n",
    "length, count = np.unique(lengths, return_counts=True)\n",
    "print(dict(zip(length, count)))"
   ]
  },
  {
   "cell_type": "code",
   "execution_count": 6,
   "metadata": {},
   "outputs": [],
   "source": [
    "max_word_len = 16\n",
    "max_sent_len = 50"
   ]
  },
  {
   "cell_type": "code",
   "execution_count": 7,
   "metadata": {},
   "outputs": [],
   "source": [
    "from keras.utils.np_utils import to_categorical\n",
    "\n",
    "feature_names = ['pos', 'person', 'number', 'tense', 'mood', 'voice', 'gender', 'case', 'degree', 'strength', 'inflection']\n",
    "\n",
    "def indexify(string_list):\n",
    "    vocab = list(set(string_list))\n",
    "    return np.asarray([vocab.index(elem)+1 for elem in string_list]), vocab\n",
    "\n",
    "def convert_morphology(tagged_words):\n",
    "    slicers = [(0,2),2,3,4,5,6,7,8,9,10,11]\n",
    "    feature_tags = [[] for _ in slicers]\n",
    "    \n",
    "    for _, tag in tagged_words:\n",
    "        for i, slicer in enumerate(slicers):\n",
    "            start, end = slicer if type(slicer) == tuple else (slicer, slicer + 1)\n",
    "            feature_tags[i].append(tag[start:end])\n",
    "        \n",
    "    vectors = []\n",
    "    label_sets = []\n",
    "    indices = []\n",
    "    for feature in feature_tags:\n",
    "        idx, labels = indexify(feature)\n",
    "        label_sets.append(labels)\n",
    "        indices.append(idx)\n",
    "        vectors.append(to_categorical(idx))\n",
    "        \n",
    "    return vectors, label_sets, indices"
   ]
  },
  {
   "cell_type": "code",
   "execution_count": 8,
   "metadata": {},
   "outputs": [],
   "source": [
    "def select_letter_indices(word, alphabet, max_word_len):\n",
    "    v = np.zeros((max_word_len))\n",
    "    \n",
    "    for i in range(min(len(word), max_word_len)):\n",
    "        v[i] = alphabet.index(word[i]) + 1 if word[i] in alphabet else 0\n",
    "        \n",
    "    return v\n",
    "    \n",
    "def create_char_dataset(tagged_words, sentences, alphabet, max_sent_len, max_word_len):\n",
    "    num_sentences = len(sentences)\n",
    "    X = np.zeros((num_sentences, max_sent_len, max_word_len), dtype='int32')\n",
    "    \n",
    "    tagged_tokens = []\n",
    "    for i, sent in enumerate(sentences):\n",
    "        sent_len = len(sent)\n",
    "        for j, (word, tag) in enumerate(sent):\n",
    "            if j >= max_sent_len:\n",
    "                break\n",
    "            tagged_tokens.append((word, tag))\n",
    "            X[i, j, :] = select_letter_indices(word, alphabet, max_word_len)\n",
    "        \n",
    "    features, labels, _ = convert_morphology(tagged_tokens)\n",
    "    \n",
    "    Y = [np.zeros((num_sentences, max_sent_len, F.shape[1])) for F in features]\n",
    "    i = 0\n",
    "    for j, sent in enumerate(sentences):\n",
    "        for k in range(min(max_sent_len, len(sent))):\n",
    "            for f in range(len(features)):\n",
    "                Y[f][j, k, :] = features[f][i]\n",
    "            i += 1\n",
    "\n",
    "    return X, Y, labels, tagged_tokens"
   ]
  },
  {
   "cell_type": "code",
   "execution_count": 9,
   "metadata": {},
   "outputs": [],
   "source": [
    "X, Y, labels, _ = create_char_dataset(words, sents, alpha, max_sent_len, max_word_len)"
   ]
  },
  {
   "cell_type": "code",
   "execution_count": 10,
   "metadata": {},
   "outputs": [
    {
     "data": {
      "text/plain": [
       "[['Du',\n",
       "  'Dq',\n",
       "  'Ma',\n",
       "  'Mo',\n",
       "  'G-',\n",
       "  'A-',\n",
       "  'C-',\n",
       "  'Pk',\n",
       "  'Pp',\n",
       "  'Pc',\n",
       "  'Ne',\n",
       "  'V-',\n",
       "  'F-',\n",
       "  'Px',\n",
       "  'Pi',\n",
       "  'R-',\n",
       "  'Pr',\n",
       "  'Pd',\n",
       "  'I-',\n",
       "  'Df',\n",
       "  'Ps',\n",
       "  'Nb',\n",
       "  'Pt'],\n",
       " ['2', '1', '-', '3'],\n",
       " ['s', '-', 'p'],\n",
       " ['r', 'i', 'l', '-', 't', 'f', 'p'],\n",
       " ['s', 'g', 'm', 'i', 'n', '-', 'd', 'u', 'p'],\n",
       " ['a', '-', 'p'],\n",
       " ['m', 'o', 'r', 'n', 'q', '-', 'f', 'p'],\n",
       " ['v', 'g', 'n', '-', 'd', 'a', 'b'],\n",
       " ['s', 'c', '-', 'p'],\n",
       " ['-'],\n",
       " ['i', 'n']]"
      ]
     },
     "execution_count": 10,
     "metadata": {},
     "output_type": "execute_result"
    }
   ],
   "source": [
    "labels"
   ]
  },
  {
   "cell_type": "code",
   "execution_count": 11,
   "metadata": {},
   "outputs": [
    {
     "data": {
      "text/plain": [
       "((19425, 50, 16), (19425, 50, 24))"
      ]
     },
     "execution_count": 11,
     "metadata": {},
     "output_type": "execute_result"
    }
   ],
   "source": [
    "X.shape, Y[0].shape"
   ]
  },
  {
   "cell_type": "code",
   "execution_count": 12,
   "metadata": {},
   "outputs": [],
   "source": [
    "X_test, Y_test = X[17905:], [y[17905:] for y in Y]\n",
    "X = X[:17905]\n",
    "Y = [y[:17905] for y in Y]"
   ]
  },
  {
   "cell_type": "code",
   "execution_count": 13,
   "metadata": {},
   "outputs": [],
   "source": [
    "def load_vocab(filename):\n",
    "    vocab = {}\n",
    "    rev_vocab = {}\n",
    "    \n",
    "    with open(filename, 'r') as f:\n",
    "        for pair in f:\n",
    "            idx, word = pair.split()\n",
    "            vocab[word] = int(idx)\n",
    "            rev_vocab[int(idx)] = word\n",
    "            \n",
    "    return vocab, rev_vocab"
   ]
  },
  {
   "cell_type": "code",
   "execution_count": 14,
   "metadata": {},
   "outputs": [],
   "source": [
    "vocab, rev_vocab = load_vocab('../models/latin/latin_types.txt')"
   ]
  },
  {
   "cell_type": "code",
   "execution_count": 15,
   "metadata": {},
   "outputs": [
    {
     "data": {
      "text/plain": [
       "259999"
      ]
     },
     "execution_count": 15,
     "metadata": {},
     "output_type": "execute_result"
    }
   ],
   "source": [
    "len(vocab)"
   ]
  },
  {
   "cell_type": "code",
   "execution_count": 16,
   "metadata": {},
   "outputs": [],
   "source": [
    "import pickle\n",
    "\n",
    "def load_vectors(filename):\n",
    "    with open(filename, 'rb') as f:\n",
    "        vectors = pickle.load(f)\n",
    "        \n",
    "    vectors = np.concatenate([np.zeros((1,300)),vectors],axis=0)\n",
    "    norm_vectors = np.divide(vectors, np.linalg.norm(vectors, axis=-1, keepdims=True))\n",
    "    norm_vectors[0] = 0\n",
    "    \n",
    "    return norm_vectors"
   ]
  },
  {
   "cell_type": "code",
   "execution_count": 17,
   "metadata": {},
   "outputs": [
    {
     "name": "stderr",
     "output_type": "stream",
     "text": [
      "/home/jds/tensorflow/lib/python3.5/site-packages/ipykernel_launcher.py:8: RuntimeWarning: invalid value encountered in true_divide\n",
      "  \n"
     ]
    }
   ],
   "source": [
    "vectors = load_vectors('../models/latin/latin_vectors.bin')"
   ]
  },
  {
   "cell_type": "code",
   "execution_count": 18,
   "metadata": {},
   "outputs": [],
   "source": [
    "def create_word_dataset(sentences, vocab, max_sent_len):\n",
    "    X = np.zeros((len(sentences), max_sent_len))\n",
    "    for i, sent in enumerate(sentences):\n",
    "        for j, (word, _) in enumerate(sent):\n",
    "            if j == max_sent_len:\n",
    "                break\n",
    "            X[i,j] = vocab.get(word, 0)\n",
    "            \n",
    "    return X"
   ]
  },
  {
   "cell_type": "code",
   "execution_count": 19,
   "metadata": {},
   "outputs": [
    {
     "data": {
      "text/plain": [
       "(19425, 50)"
      ]
     },
     "execution_count": 19,
     "metadata": {},
     "output_type": "execute_result"
    }
   ],
   "source": [
    "X2 = create_word_dataset(sents, vocab, max_sent_len)\n",
    "X2_train = X2[:17905]\n",
    "X2_test = X2[17905:]\n",
    "X2_test.shape\n",
    "X2.shape"
   ]
  },
  {
   "cell_type": "code",
   "execution_count": 20,
   "metadata": {},
   "outputs": [],
   "source": [
    "from keras import layers, Input\n",
    "from keras.models import Model\n",
    "from keras import regularizers\n",
    "import keras.backend as K\n",
    "\n",
    "def make_char_word_rnn_model(\n",
    "    word_vectors,\n",
    "    alphabet_size, \n",
    "    char_vector_width, \n",
    "    max_sent_len,\n",
    "    max_word_len, \n",
    "    char_lstm_size,\n",
    "    word_lstm_size,\n",
    "    morpho_sizes,\n",
    "    morpho_names,\n",
    "    dense_size):\n",
    "    \n",
    "    \n",
    "    # The Char portion\n",
    "    # sub-word features\n",
    "    char_embed = layers.Embedding(alphabet_size + 1,\n",
    "                             char_vector_width,\n",
    "                             input_length = max_word_len,\n",
    "                             trainable = True,\n",
    "                             mask_zero = True)  \n",
    "    \n",
    "    # encode the input\n",
    "    char_input = Input(shape=(max_sent_len, max_word_len, ), dtype='float32')\n",
    "    vectors = layers.TimeDistributed(char_embed)(char_input)\n",
    "    \n",
    "    # run word-level RNNs over the letters\n",
    "    word_rnn = layers.Bidirectional(layers.GRU(char_lstm_size, activation='tanh', \n",
    "                                                dropout=0.2, recurrent_dropout=0.2))\n",
    "    char_vectors = layers.TimeDistributed(word_rnn)(vectors)\n",
    "   \n",
    "    # The Word portion\n",
    "    # word vectors\n",
    "    word_embed = layers.Embedding(word_vectors.shape[0],\n",
    "                                  word_vectors.shape[1],\n",
    "                                  input_length=max_sent_len,\n",
    "                                  weights=[word_vectors],\n",
    "                                  trainable = False,\n",
    "                                  mask_zero = True)\n",
    "    \n",
    "    word_input = Input(shape=(max_sent_len,), dtype='float32')\n",
    "    word_vectors = word_embed(word_input)\n",
    "    \n",
    "    char_word_vectors = layers.concatenate([char_vectors, word_vectors], axis=-1)\n",
    "    \n",
    "    word_lstm = layers.Bidirectional(layers.LSTM(word_lstm_size, return_sequences=True, \n",
    "                                                 name='word_encoder',\n",
    "                                                 activation='tanh',\n",
    "                                                 kernel_regularizer=regularizers.l2(0.01),\n",
    "                                                 activity_regularizer=regularizers.l2(0.01),\n",
    "                                                 dropout=0.4, recurrent_dropout=0.4))(char_word_vectors)\n",
    "    \n",
    "    \n",
    "    # push through dense layers\n",
    "    out = layers.Dense(dense_size, activation='relu')(word_lstm)\n",
    "    out = layers.Dropout(rate=0.2)(out)\n",
    "    out = layers.Dense(dense_size, activation='relu')(out)\n",
    "    out = layers.Dropout(rate=0.2)(out)\n",
    "    out = layers.Dense(dense_size, activation='relu')(out)\n",
    "    out = layers.Dropout(rate=0.2)(out)\n",
    "    \n",
    "    # generate the output via softmax layers\n",
    "    outputs = [layers.Dense(morpho_size, activation='softmax', name=morpho_names[i])(out) \n",
    "               for i, morpho_size in enumerate(morpho_sizes)]\n",
    "\n",
    "    model = Model([char_input, word_input], outputs)\n",
    "\n",
    "    model.compile(optimizer='adam', loss='categorical_crossentropy', metrics=['acc'])\n",
    "    \n",
    "    \n",
    "    return model"
   ]
  },
  {
   "cell_type": "code",
   "execution_count": 21,
   "metadata": {},
   "outputs": [
    {
     "name": "stdout",
     "output_type": "stream",
     "text": [
      "__________________________________________________________________________________________________\n",
      "Layer (type)                    Output Shape         Param #     Connected to                     \n",
      "==================================================================================================\n",
      "input_1 (InputLayer)            (None, 50, 16)       0                                            \n",
      "__________________________________________________________________________________________________\n",
      "time_distributed_1 (TimeDistrib (None, 50, 16, 60)   9660        input_1[0][0]                    \n",
      "__________________________________________________________________________________________________\n",
      "input_2 (InputLayer)            (None, 50)           0                                            \n",
      "__________________________________________________________________________________________________\n",
      "time_distributed_2 (TimeDistrib (None, 50, 200)      96600       time_distributed_1[0][0]         \n",
      "__________________________________________________________________________________________________\n",
      "embedding_2 (Embedding)         (None, 50, 300)      78000600    input_2[0][0]                    \n",
      "__________________________________________________________________________________________________\n",
      "concatenate_1 (Concatenate)     (None, 50, 500)      0           time_distributed_2[0][0]         \n",
      "                                                                 embedding_2[0][0]                \n",
      "__________________________________________________________________________________________________\n",
      "bidirectional_2 (Bidirectional) (None, 50, 200)      480800      concatenate_1[0][0]              \n",
      "__________________________________________________________________________________________________\n",
      "dense_1 (Dense)                 (None, 50, 200)      40200       bidirectional_2[0][0]            \n",
      "__________________________________________________________________________________________________\n",
      "dropout_1 (Dropout)             (None, 50, 200)      0           dense_1[0][0]                    \n",
      "__________________________________________________________________________________________________\n",
      "dense_2 (Dense)                 (None, 50, 200)      40200       dropout_1[0][0]                  \n",
      "__________________________________________________________________________________________________\n",
      "dropout_2 (Dropout)             (None, 50, 200)      0           dense_2[0][0]                    \n",
      "__________________________________________________________________________________________________\n",
      "dense_3 (Dense)                 (None, 50, 200)      40200       dropout_2[0][0]                  \n",
      "__________________________________________________________________________________________________\n",
      "dropout_3 (Dropout)             (None, 50, 200)      0           dense_3[0][0]                    \n",
      "__________________________________________________________________________________________________\n",
      "pos (Dense)                     (None, 50, 24)       4824        dropout_3[0][0]                  \n",
      "__________________________________________________________________________________________________\n",
      "person (Dense)                  (None, 50, 5)        1005        dropout_3[0][0]                  \n",
      "__________________________________________________________________________________________________\n",
      "number (Dense)                  (None, 50, 4)        804         dropout_3[0][0]                  \n",
      "__________________________________________________________________________________________________\n",
      "tense (Dense)                   (None, 50, 8)        1608        dropout_3[0][0]                  \n",
      "__________________________________________________________________________________________________\n",
      "mood (Dense)                    (None, 50, 10)       2010        dropout_3[0][0]                  \n",
      "__________________________________________________________________________________________________\n",
      "voice (Dense)                   (None, 50, 4)        804         dropout_3[0][0]                  \n",
      "__________________________________________________________________________________________________\n",
      "gender (Dense)                  (None, 50, 9)        1809        dropout_3[0][0]                  \n",
      "__________________________________________________________________________________________________\n",
      "case (Dense)                    (None, 50, 8)        1608        dropout_3[0][0]                  \n",
      "__________________________________________________________________________________________________\n",
      "degree (Dense)                  (None, 50, 5)        1005        dropout_3[0][0]                  \n",
      "__________________________________________________________________________________________________\n",
      "strength (Dense)                (None, 50, 2)        402         dropout_3[0][0]                  \n",
      "__________________________________________________________________________________________________\n",
      "inflection (Dense)              (None, 50, 3)        603         dropout_3[0][0]                  \n",
      "==================================================================================================\n",
      "Total params: 78,724,742\n",
      "Trainable params: 724,142\n",
      "Non-trainable params: 78,000,600\n",
      "__________________________________________________________________________________________________\n"
     ]
    }
   ],
   "source": [
    "m1 = make_char_word_rnn_model(vectors, len(alpha), \n",
    "                              60, max_sent_len, max_word_len,\n",
    "                              100, 100,\n",
    "                              [y.shape[2] for y in Y],\n",
    "                              feature_names,\n",
    "                              200)\n",
    "m1.summary()"
   ]
  },
  {
   "cell_type": "code",
   "execution_count": 22,
   "metadata": {},
   "outputs": [],
   "source": [
    "from matplotlib import pyplot as plt\n",
    "from IPython.display import clear_output\n",
    "import keras\n",
    "\n",
    "\n",
    "class PlotLosses(keras.callbacks.Callback):\n",
    "    def on_train_begin(self, logs={}):\n",
    "        self.i = 0\n",
    "        self.x = []\n",
    "        self.losses = []\n",
    "        self.val_losses = []\n",
    "        \n",
    "        self.accs = {}\n",
    "        self.val_accs = {}\n",
    "        for f in feature_names:\n",
    "            self.accs[f] = []\n",
    "            self.val_accs[f] = []\n",
    "        self.logs = []\n",
    "\n",
    "    def on_epoch_end(self, epoch, logs={}):\n",
    "        \n",
    "        self.logs.append(logs)\n",
    "        self.x.append(self.i)\n",
    "        self.losses.append(logs.get('loss'))\n",
    "        self.val_losses.append(logs.get('val_loss'))\n",
    "        \n",
    "        for f in feature_names:\n",
    "            self.accs[f].append(logs.get(f + '_acc'))\n",
    "            self.val_accs[f].append(logs.get('val_' + f + '_acc'))\n",
    "        self.i += 1\n",
    "        \n",
    "        clear_output(wait=True)\n",
    "        _, (ax1, ax2, ax3) = plt.subplots(1, 3, sharex=True, figsize=(20, 10))\n",
    "        ax1.plot(self.x, self.losses, label=\"loss\")\n",
    "        ax1.plot(self.x, self.val_losses, label=\"val_loss\")\n",
    "        \n",
    "        for f in feature_names:\n",
    "            ax2.plot(self.x, self.accs[f], label=(f + \"_acc\"))\n",
    "            ax3.plot(self.x, self.val_accs[f], label=\"val_\" + f + \"_acc\")\n",
    "            \n",
    "        ax1.legend()\n",
    "        ax2.legend()\n",
    "        ax3.legend()\n",
    "        plt.show();\n",
    "        \n",
    "        for f in feature_names:\n",
    "            print(f +  \" best:\", np.round(np.max(self.val_accs[f]), 3), \"last:\", np.round(self.val_accs[f][-1], 3))\n",
    "        \n",
    "plot_losses = PlotLosses()"
   ]
  },
  {
   "cell_type": "code",
   "execution_count": null,
   "metadata": {},
   "outputs": [
    {
     "data": {
      "image/png": "[encoded data removed]",
      "text/plain": [
       "<Figure size 1440x720 with 3 Axes>"
      ]
     },
     "metadata": {
      "needs_background": "light"
     },
     "output_type": "display_data"
    },
    {
     "name": "stdout",
     "output_type": "stream",
     "text": [
      "pos best: 0.874 last: 0.869\n",
      "person best: 0.988 last: 0.988\n",
      "number best: 0.922 last: 0.922\n",
      "tense best: 0.955 last: 0.953\n",
      "mood best: 0.949 last: 0.949\n",
      "voice best: 0.972 last: 0.972\n",
      "gender best: 0.832 last: 0.832\n",
      "case best: 0.858 last: 0.858\n",
      "degree best: 0.939 last: 0.933\n",
      "strength best: 1.0 last: 1.0\n",
      "inflection best: 0.985 last: 0.984\n",
      "Epoch 38/100\n",
      " 4800/17905 [=======>......................] - ETA: 3:50 - loss: 1.5725 - pos_loss: 0.2422 - person_loss: 0.0408 - number_loss: 0.1248 - tense_loss: 0.0926 - mood_loss: 0.0775 - voice_loss: 0.0482 - gender_loss: 0.2655 - case_loss: 0.2514 - degree_loss: 0.0730 - strength_loss: 1.2108e-07 - inflection_loss: 0.0366 - pos_acc: 0.9212 - person_acc: 0.9866 - number_acc: 0.9519 - tense_acc: 0.9665 - mood_acc: 0.9714 - voice_acc: 0.9841 - gender_acc: 0.9067 - case_acc: 0.9053 - degree_acc: 0.9743 - strength_acc: 1.0000 - inflection_acc: 0.9853"
     ]
    }
   ],
   "source": [
    "idx = list(range(len(X)))\n",
    "np.random.shuffle(idx)\n",
    "history = m1.fit([X[idx], X2_train[idx]], [y[idx] for y in Y],\n",
    "                 batch_size=16, epochs=100,\n",
    "                 callbacks=[plot_losses],\n",
    "                 validation_data=([X_test, X2_test], [y for y in Y_test]))"
   ]
  },
  {
   "cell_type": "markdown",
   "metadata": {},
   "source": [
    "## Results\n",
    "\n",
    "Let's evaluate the model against the test set, the same that was used in evaluating the Perceptron tagger above."
   ]
  },
  {
   "cell_type": "code",
   "execution_count": 41,
   "metadata": {},
   "outputs": [
    {
     "name": "stdout",
     "output_type": "stream",
     "text": [
      "\r",
      "110/110 [==============================] - 1s 8ms/step\n"
     ]
    },
    {
     "data": {
      "text/plain": [
       "{'case': 0.87,\n",
       " 'degree': 0.941,\n",
       " 'gender': 0.852,\n",
       " 'inflection': 0.958,\n",
       " 'mood': 0.972,\n",
       " 'number': 0.907,\n",
       " 'person': 0.986,\n",
       " 'pos': 0.914,\n",
       " 'strength': 0.955,\n",
       " 'tense': 0.983,\n",
       " 'voice': 1.0}"
      ]
     },
     "execution_count": 41,
     "metadata": {},
     "output_type": "execute_result"
    }
   ],
   "source": [
    "dict(zip(feature_names, np.round(m1.evaluate([X_test, X2_test], [y for y in  Y_test], batch_size=256)[-11:], 3)))"
   ]
  },
  {
   "cell_type": "markdown",
   "metadata": {},
   "source": [
    "Comparing this result to the Perceptron tagger above, we see that the Word+Char model improves on NLTK's AveragedPerceptron across all features, and especially so for the POS tagging task.  \n",
    "\n",
    "The POS accuracy of 0.918 puts the Word+Char in the range of the Germanic taggers tested by Horsmann and Zesch, though somewhat on the lower end."
   ]
  },
  {
   "cell_type": "markdown",
   "metadata": {},
   "source": [
    "| Feature | Perceptron Tagger | Word+Char LSTM | Diff |\n",
    "----------|-------------------|----------------|------|\n",
    "|  POS | 0.840 | 0.914 | + 7.4% |\n",
    "| Person | 0.956 | 0.979 | + 2.3% |\n",
    "| Number | 0.827 | 0.91 | + 9.3% |\n",
    "| Tense | 0.960 | 0.979 | + 3.9% |\n",
    "| Mood | 0.952 | 0.967 | + 1.5% |\n",
    "| Gender | 0.798 | 0.858 | + 6.0% |\n",
    "| Case | 0.814 | 0.874 | + 6.0 % |\n",
    "| Degree | 0.907 | 0.935 | + 2.8% |\n",
    "| Strength | 0.927 | 0.954 | + 2.7% |\n",
    "| Inflection | 0.931 | 0.965 | + 3.4% |"
   ]
  },
  {
   "cell_type": "markdown",
   "metadata": {},
   "source": [
    "### Error Analysis"
   ]
  },
  {
   "cell_type": "code",
   "execution_count": 42,
   "metadata": {},
   "outputs": [],
   "source": [
    "import xml.etree.ElementTree as ET\n",
    "\n",
    "def extract_labels(labelsXML):\n",
    "    root = ET.fromstring(labelsXML)\n",
    "\n",
    "    labels = {}\n",
    "\n",
    "    for parts_of_speech in root.iter('parts-of-speech'):\n",
    "        labels['pos'] = {}\n",
    "\n",
    "        for value in parts_of_speech.iter('value'):\n",
    "            tag = value.attrib['tag']\n",
    "            label = value.attrib['summary']\n",
    "            labels['pos'][tag] = label\n",
    "\n",
    "    for field in root.iter('field'):\n",
    "        feature = field.attrib['tag']\n",
    "        labels[feature] = {}\n",
    "        labels[feature]['-'] = 'none'\n",
    "\n",
    "        for value in field.iter('value'):\n",
    "            tag = value.attrib['tag']\n",
    "            label = value.attrib['summary']\n",
    "            labels[feature][tag] = label\n",
    "            \n",
    "    return labels"
   ]
  },
  {
   "cell_type": "code",
   "execution_count": 43,
   "metadata": {},
   "outputs": [],
   "source": [
    "labelsXML = '''\n",
    "<tags>\n",
    "<parts-of-speech>\n",
    "      <value tag=\"A-\" summary=\"adjective\"/>\n",
    "      <value tag=\"Df\" summary=\"adverb\"/>\n",
    "      <value tag=\"S-\" summary=\"article\"/>\n",
    "      <value tag=\"Ma\" summary=\"cardinal numeral\"/>\n",
    "      <value tag=\"Nb\" summary=\"common noun\"/>\n",
    "      <value tag=\"C-\" summary=\"conjunction\"/>\n",
    "      <value tag=\"Pd\" summary=\"demonstrative pronoun\"/>\n",
    "      <value tag=\"F-\" summary=\"foreign word\"/>\n",
    "      <value tag=\"Px\" summary=\"indefinite pronoun\"/>\n",
    "      <value tag=\"N-\" summary=\"infinitive marker\"/>\n",
    "      <value tag=\"I-\" summary=\"interjection\"/>\n",
    "      <value tag=\"Du\" summary=\"interrogative adverb\"/>\n",
    "      <value tag=\"Pi\" summary=\"interrogative pronoun\"/>\n",
    "      <value tag=\"Mo\" summary=\"ordinal numeral\"/>\n",
    "      <value tag=\"Pp\" summary=\"personal pronoun\"/>\n",
    "      <value tag=\"Pk\" summary=\"personal reflexive pronoun\"/>\n",
    "      <value tag=\"Ps\" summary=\"possessive pronoun\"/>\n",
    "      <value tag=\"Pt\" summary=\"possessive reflexive pronoun\"/>\n",
    "      <value tag=\"R-\" summary=\"preposition\"/>\n",
    "      <value tag=\"Ne\" summary=\"proper noun\"/>\n",
    "      <value tag=\"Py\" summary=\"quantifier\"/>\n",
    "      <value tag=\"Pc\" summary=\"reciprocal pronoun\"/>\n",
    "      <value tag=\"Dq\" summary=\"relative adverb\"/>\n",
    "      <value tag=\"Pr\" summary=\"relative pronoun\"/>\n",
    "      <value tag=\"G-\" summary=\"subjunction\"/>\n",
    "      <value tag=\"V-\" summary=\"verb\"/>\n",
    "      <value tag=\"X-\" summary=\"unassigned\"/>\n",
    "    </parts-of-speech>\n",
    "    <morphology>\n",
    "      <field tag=\"person\">\n",
    "        <value tag=\"1\" summary=\"first person\"/>\n",
    "        <value tag=\"2\" summary=\"second person\"/>\n",
    "        <value tag=\"3\" summary=\"third person\"/>\n",
    "        <value tag=\"x\" summary=\"uncertain person\"/>\n",
    "      </field>\n",
    "      <field tag=\"number\">\n",
    "        <value tag=\"s\" summary=\"singular\"/>\n",
    "        <value tag=\"d\" summary=\"dual\"/>\n",
    "        <value tag=\"p\" summary=\"plural\"/>\n",
    "        <value tag=\"x\" summary=\"uncertain number\"/>\n",
    "      </field>\n",
    "      <field tag=\"tense\">\n",
    "        <value tag=\"p\" summary=\"present\"/>\n",
    "        <value tag=\"i\" summary=\"imperfect\"/>\n",
    "        <value tag=\"r\" summary=\"perfect\"/>\n",
    "        <value tag=\"s\" summary=\"resultative\"/>\n",
    "        <value tag=\"a\" summary=\"aorist\"/>\n",
    "        <value tag=\"u\" summary=\"past\"/>\n",
    "        <value tag=\"l\" summary=\"pluperfect\"/>\n",
    "        <value tag=\"f\" summary=\"future\"/>\n",
    "        <value tag=\"t\" summary=\"future perfect\"/>\n",
    "        <value tag=\"x\" summary=\"uncertain tense\"/>\n",
    "      </field>\n",
    "      <field tag=\"mood\">\n",
    "        <value tag=\"i\" summary=\"indicative\"/>\n",
    "        <value tag=\"s\" summary=\"subjunctive\"/>\n",
    "        <value tag=\"m\" summary=\"imperative\"/>\n",
    "        <value tag=\"o\" summary=\"optative\"/>\n",
    "        <value tag=\"n\" summary=\"infinitive\"/>\n",
    "        <value tag=\"p\" summary=\"participle\"/>\n",
    "        <value tag=\"d\" summary=\"gerund\"/>\n",
    "        <value tag=\"g\" summary=\"gerundive\"/>\n",
    "        <value tag=\"u\" summary=\"supine\"/>\n",
    "        <value tag=\"x\" summary=\"uncertain mood\"/>\n",
    "        <value tag=\"y\" summary=\"finiteness unspecified\"/>\n",
    "        <value tag=\"e\" summary=\"indicative or subjunctive\"/>\n",
    "        <value tag=\"f\" summary=\"indicative or imperative\"/>\n",
    "        <value tag=\"h\" summary=\"subjunctive or imperative\"/>\n",
    "        <value tag=\"t\" summary=\"finite\"/>\n",
    "      </field>\n",
    "      <field tag=\"voice\">\n",
    "        <value tag=\"a\" summary=\"active\"/>\n",
    "        <value tag=\"m\" summary=\"middle\"/>\n",
    "        <value tag=\"p\" summary=\"passive\"/>\n",
    "        <value tag=\"e\" summary=\"middle or passive\"/>\n",
    "        <value tag=\"x\" summary=\"unspecified\"/>\n",
    "      </field>\n",
    "      <field tag=\"gender\">\n",
    "        <value tag=\"m\" summary=\"masculine\"/>\n",
    "        <value tag=\"f\" summary=\"feminine\"/>\n",
    "        <value tag=\"n\" summary=\"neuter\"/>\n",
    "        <value tag=\"p\" summary=\"masculine or feminine\"/>\n",
    "        <value tag=\"o\" summary=\"masculine or neuter\"/>\n",
    "        <value tag=\"r\" summary=\"feminine or neuter\"/>\n",
    "        <value tag=\"q\" summary=\"masculine, feminine or neuter\"/>\n",
    "        <value tag=\"x\" summary=\"uncertain gender\"/>\n",
    "      </field>\n",
    "      <field tag=\"case\">\n",
    "        <value tag=\"n\" summary=\"nominative\"/>\n",
    "        <value tag=\"a\" summary=\"accusative\"/>\n",
    "        <value tag=\"o\" summary=\"oblique\"/>\n",
    "        <value tag=\"g\" summary=\"genitive\"/>\n",
    "        <value tag=\"c\" summary=\"genitive or dative\"/>\n",
    "        <value tag=\"e\" summary=\"accusative or dative\"/>\n",
    "        <value tag=\"d\" summary=\"dative\"/>\n",
    "        <value tag=\"b\" summary=\"ablative\"/>\n",
    "        <value tag=\"i\" summary=\"instrumental\"/>\n",
    "        <value tag=\"l\" summary=\"locative\"/>\n",
    "        <value tag=\"v\" summary=\"vocative\"/>\n",
    "        <value tag=\"x\" summary=\"uncertain case\"/>\n",
    "        <value tag=\"z\" summary=\"no case\"/>\n",
    "      </field>\n",
    "      <field tag=\"degree\">\n",
    "        <value tag=\"p\" summary=\"positive\"/>\n",
    "        <value tag=\"c\" summary=\"comparative\"/>\n",
    "        <value tag=\"s\" summary=\"superlative\"/>\n",
    "        <value tag=\"x\" summary=\"uncertain degree\"/>\n",
    "        <value tag=\"z\" summary=\"no degree\"/>\n",
    "      </field>\n",
    "      <field tag=\"strength\">\n",
    "        <value tag=\"w\" summary=\"weak\"/>\n",
    "        <value tag=\"s\" summary=\"strong\"/>\n",
    "        <value tag=\"t\" summary=\"weak or strong\"/>\n",
    "      </field>\n",
    "      <field tag=\"inflection\">\n",
    "        <value tag=\"n\" summary=\"non-inflecting\"/>\n",
    "        <value tag=\"i\" summary=\"inflecting\"/>\n",
    "      </field>\n",
    "    </morphology>\n",
    "</tags>\n",
    "'''"
   ]
  },
  {
   "cell_type": "code",
   "execution_count": 44,
   "metadata": {},
   "outputs": [
    {
     "data": {
      "text/plain": [
       "{'case': {'-': 'none',\n",
       "  'a': 'accusative',\n",
       "  'b': 'ablative',\n",
       "  'c': 'genitive or dative',\n",
       "  'd': 'dative',\n",
       "  'e': 'accusative or dative',\n",
       "  'g': 'genitive',\n",
       "  'i': 'instrumental',\n",
       "  'l': 'locative',\n",
       "  'n': 'nominative',\n",
       "  'o': 'oblique',\n",
       "  'v': 'vocative',\n",
       "  'x': 'uncertain case',\n",
       "  'z': 'no case'},\n",
       " 'degree': {'-': 'none',\n",
       "  'c': 'comparative',\n",
       "  'p': 'positive',\n",
       "  's': 'superlative',\n",
       "  'x': 'uncertain degree',\n",
       "  'z': 'no degree'},\n",
       " 'gender': {'-': 'none',\n",
       "  'f': 'feminine',\n",
       "  'm': 'masculine',\n",
       "  'n': 'neuter',\n",
       "  'o': 'masculine or neuter',\n",
       "  'p': 'masculine or feminine',\n",
       "  'q': 'masculine, feminine or neuter',\n",
       "  'r': 'feminine or neuter',\n",
       "  'x': 'uncertain gender'},\n",
       " 'inflection': {'-': 'none', 'i': 'inflecting', 'n': 'non-inflecting'},\n",
       " 'mood': {'-': 'none',\n",
       "  'd': 'gerund',\n",
       "  'e': 'indicative or subjunctive',\n",
       "  'f': 'indicative or imperative',\n",
       "  'g': 'gerundive',\n",
       "  'h': 'subjunctive or imperative',\n",
       "  'i': 'indicative',\n",
       "  'm': 'imperative',\n",
       "  'n': 'infinitive',\n",
       "  'o': 'optative',\n",
       "  'p': 'participle',\n",
       "  's': 'subjunctive',\n",
       "  't': 'finite',\n",
       "  'u': 'supine',\n",
       "  'x': 'uncertain mood',\n",
       "  'y': 'finiteness unspecified'},\n",
       " 'number': {'-': 'none',\n",
       "  'd': 'dual',\n",
       "  'p': 'plural',\n",
       "  's': 'singular',\n",
       "  'x': 'uncertain number'},\n",
       " 'person': {'-': 'none',\n",
       "  '1': 'first person',\n",
       "  '2': 'second person',\n",
       "  '3': 'third person',\n",
       "  'x': 'uncertain person'},\n",
       " 'pos': {'A-': 'adjective',\n",
       "  'C-': 'conjunction',\n",
       "  'Df': 'adverb',\n",
       "  'Dq': 'relative adverb',\n",
       "  'Du': 'interrogative adverb',\n",
       "  'F-': 'foreign word',\n",
       "  'G-': 'subjunction',\n",
       "  'I-': 'interjection',\n",
       "  'Ma': 'cardinal numeral',\n",
       "  'Mo': 'ordinal numeral',\n",
       "  'N-': 'infinitive marker',\n",
       "  'Nb': 'common noun',\n",
       "  'Ne': 'proper noun',\n",
       "  'Pc': 'reciprocal pronoun',\n",
       "  'Pd': 'demonstrative pronoun',\n",
       "  'Pi': 'interrogative pronoun',\n",
       "  'Pk': 'personal reflexive pronoun',\n",
       "  'Pp': 'personal pronoun',\n",
       "  'Pr': 'relative pronoun',\n",
       "  'Ps': 'possessive pronoun',\n",
       "  'Pt': 'possessive reflexive pronoun',\n",
       "  'Px': 'indefinite pronoun',\n",
       "  'Py': 'quantifier',\n",
       "  'R-': 'preposition',\n",
       "  'S-': 'article',\n",
       "  'V-': 'verb',\n",
       "  'X-': 'unassigned'},\n",
       " 'strength': {'-': 'none', 's': 'strong', 't': 'weak or strong', 'w': 'weak'},\n",
       " 'tense': {'-': 'none',\n",
       "  'a': 'aorist',\n",
       "  'f': 'future',\n",
       "  'i': 'imperfect',\n",
       "  'l': 'pluperfect',\n",
       "  'p': 'present',\n",
       "  'r': 'perfect',\n",
       "  's': 'resultative',\n",
       "  't': 'future perfect',\n",
       "  'u': 'past',\n",
       "  'x': 'uncertain tense'},\n",
       " 'voice': {'-': 'none',\n",
       "  'a': 'active',\n",
       "  'e': 'middle or passive',\n",
       "  'm': 'middle',\n",
       "  'p': 'passive',\n",
       "  'x': 'unspecified'}}"
      ]
     },
     "execution_count": 44,
     "metadata": {},
     "output_type": "execute_result"
    }
   ],
   "source": [
    "labels_full = extract_labels(labelsXML)\n",
    "labels_full"
   ]
  },
  {
   "cell_type": "code",
   "execution_count": 45,
   "metadata": {
    "scrolled": false
   },
   "outputs": [
    {
     "ename": "ImportError",
     "evalue": "No module named 'nltk'",
     "output_type": "error",
     "traceback": [
      "\u001b[0;31m---------------------------------------------------------------------------\u001b[0m",
      "\u001b[0;31mImportError\u001b[0m                               Traceback (most recent call last)",
      "\u001b[0;32m<ipython-input-45-cd1308fc4047>\u001b[0m in \u001b[0;36m<module>\u001b[0;34m()\u001b[0m\n\u001b[0;32m----> 1\u001b[0;31m \u001b[0;32mfrom\u001b[0m \u001b[0mnltk\u001b[0m\u001b[0;34m.\u001b[0m\u001b[0mmetrics\u001b[0m \u001b[0;32mimport\u001b[0m \u001b[0mConfusionMatrix\u001b[0m\u001b[0;34m\u001b[0m\u001b[0m\n\u001b[0m\u001b[1;32m      2\u001b[0m \u001b[0;34m\u001b[0m\u001b[0m\n\u001b[1;32m      3\u001b[0m \u001b[0mpredicted\u001b[0m \u001b[0;34m=\u001b[0m \u001b[0mm2\u001b[0m\u001b[0;34m.\u001b[0m\u001b[0mpredict\u001b[0m\u001b[0;34m(\u001b[0m\u001b[0;34m[\u001b[0m\u001b[0mX_test\u001b[0m\u001b[0;34m,\u001b[0m \u001b[0mX2_test\u001b[0m\u001b[0;34m]\u001b[0m\u001b[0;34m)\u001b[0m\u001b[0;34m\u001b[0m\u001b[0m\n\u001b[1;32m      4\u001b[0m \u001b[0;34m\u001b[0m\u001b[0m\n\u001b[1;32m      5\u001b[0m \u001b[0;32mfor\u001b[0m \u001b[0mi\u001b[0m\u001b[0;34m,\u001b[0m \u001b[0mfeature\u001b[0m \u001b[0;32min\u001b[0m \u001b[0menumerate\u001b[0m\u001b[0;34m(\u001b[0m\u001b[0mfeature_names\u001b[0m\u001b[0;34m)\u001b[0m\u001b[0;34m:\u001b[0m\u001b[0;34m\u001b[0m\u001b[0m\n",
      "\u001b[0;31mImportError\u001b[0m: No module named 'nltk'"
     ]
    }
   ],
   "source": [
    "from nltk.metrics import ConfusionMatrix\n",
    "\n",
    "predicted = m2.predict([X_test, X2_test])\n",
    "\n",
    "for i, feature in enumerate(feature_names):\n",
    "    print('---------------- ', feature, ' ----------------')\n",
    "    gold = np.ndarray.flatten(np.argmax(Y_test[i], axis=2))\n",
    "    mask = gold > 0\n",
    "    pred = np.ndarray.flatten(np.argmax(predicted[i], axis=2))\n",
    "    \n",
    "    gold_labels = [labels_full[feature][labels[i][idx-1]] for idx in gold[mask]]\n",
    "    pred_labels = [labels_full[feature][labels[i][idx-1]] for idx in pred[mask]]\n",
    "    print(ConfusionMatrix(gold_labels, pred_labels))"
   ]
  },
  {
   "cell_type": "markdown",
   "metadata": {},
   "source": [
    "A few considerations:\n",
    "\n",
    "* POS tagging, there is some equivocation between adjectives and nouns, perhaps explained by the observation that in OE adjectives are inflected like nouns for case, gender, number.  Also, because of its relatively free word order, adjectives are not predictable pre- or post-nominal or in predicate position.\n",
    "* Another issue for POS tagging is the \"subjunction\" annotation, which the tagger frequently mis-tags as adverbial.  These \"subjuction\" elements appear to be complementizers, such as *þy* \"therefore, because\", which might rightly be tagged as adverbial, i.e. merged in A-bar positions.\n",
    "* Forms annotated as quantifiers are tagged as adjectives by the classifier.  This again is linguistically defensible, as words like *micel* \"much, big, a lot\" and *manig* \"many\" are sometimes classed as adjectives (e.g. by [Wiktionary](https://en.wiktionary.org/wiki/manig))\n",
    "* As for case, there is a predictable equivocation between nominative and accusative case assignment.  This is due to syncretism in OE's case system: nominative and accusative forms overlap in cells of the nominal and adjectival paradigms -- principally in masculine and neuter lemmas --, and since word order is only weakly driven by syntax, disambiguation is difficult.\n",
    "* The last point might also explain the system's lack of accuracy in distinguishing masculine from neuter forms. Its apparent difficulty in distinguishing feminine from masculine forms likely lies in the phonological heterogeneity of the categories: on encountering a new word, it is difficult to guess at its gender from its form.\n"
   ]
  },
  {
   "cell_type": "markdown",
   "metadata": {},
   "source": [
    "## Productification\n",
    "\n",
    "To be useful in practice, the model parameters must be exported, and the preprocessing routines wrappend in a library."
   ]
  },
  {
   "cell_type": "markdown",
   "metadata": {},
   "source": [
    "### Saving and loading\n"
   ]
  },
  {
   "cell_type": "code",
   "execution_count": 46,
   "metadata": {},
   "outputs": [],
   "source": [
    "import pickle\n",
    "\n",
    "def save_morpho_model(path, model, alphabet, feature_names, labels, labels_full):\n",
    "    model.save(path + \"/\" + 'morpho_model.h5')\n",
    "        \n",
    "    with open(path + '/' + 'morpho_labels.pickle', 'wb') as out:\n",
    "        pickle.dump(alphabet, out)\n",
    "        pickle.dump(feature_names, out)\n",
    "        pickle.dump(labels, out)\n",
    "        pickle.dump(labels_full, out)\n",
    "    "
   ]
  },
  {
   "cell_type": "code",
   "execution_count": 47,
   "metadata": {},
   "outputs": [],
   "source": [
    "save_morpho_model('../models/oe', m1, alpha, feature_names, labels, labels_full)"
   ]
  },
  {
   "cell_type": "markdown",
   "metadata": {},
   "source": [
    "The loading of the model, the preprocessing and the tagging are best wrapped into a class."
   ]
  },
  {
   "cell_type": "code",
   "execution_count": 51,
   "metadata": {},
   "outputs": [],
   "source": [
    "class MorphologicalAnalyzer:\n",
    "    def __init__(self, path):\n",
    "        \"\"\"Loads the model from a saved HDF5 file,\n",
    "        along with related data structures for taglibs and vocabularies.\"\"\"\n",
    "        \n",
    "        self.model = keras.models.load_model(path + '/' + 'morpho_model.h5')\n",
    "\n",
    "        with open(path + '/' + 'morpho_labels.pickle', 'rb') as inp:\n",
    "            self.alphabet = pickle.load(inp)\n",
    "            self.feature_names = pickle.load(inp)\n",
    "            self.labels = pickle.load(inp)\n",
    "            self.labels_full = pickle.load(inp)\n",
    "\n",
    "        input_layer = self.model.get_layer(index=0)\n",
    "\n",
    "        self.max_sent_len = input_layer.input_shape[1]\n",
    "        self.max_word_len = input_layer.input_shape[2]\n",
    "        \n",
    "        self.vocab = {}\n",
    "        with open(path + '/' + 'oe_types.txt', 'r') as f:\n",
    "            for pair in f:\n",
    "                idx, word = pair.split()\n",
    "                self.vocab[word] = int(idx)\n",
    "                \n",
    "        \n",
    "    def _select_letter_indices(self, word):\n",
    "        \"\"\"For an input words, returns a vector of indices into the alphabet.\"\"\"\n",
    "        v = np.zeros((self.max_word_len))\n",
    "    \n",
    "        for i in range(min(len(word), self.max_word_len)):\n",
    "            v[i] = self.alphabet.index(word[i]) + 1 if word[i] in self.alphabet else 0\n",
    "\n",
    "        return v\n",
    "        \n",
    "    def _characterize(self, sentences):\n",
    "        \"\"\"For a list of sentences, returns a tensor of dimension \n",
    "        (num sentences, words_per_sentence, letters_per_word)\n",
    "        of indices into the alphabet.\"\"\"\n",
    "        \n",
    "        X = np.zeros((len(sentences), self.max_sent_len, self.max_word_len), dtype='int32')\n",
    "    \n",
    "        for i, sent in enumerate(sentences):\n",
    "            for j, word in enumerate(sent):\n",
    "                if j >= self.max_sent_len:\n",
    "                    break\n",
    "                X[i, j, :] = self._select_letter_indices(word)\n",
    "\n",
    "        return X\n",
    "    \n",
    "    def _wordize(self, sentences):\n",
    "        \"\"\"For a list of sentences, returns a tensor of dimension\n",
    "        (num_sentences, words_per_sentence)\n",
    "        of indices into the vocabulary.\"\"\"\n",
    "        \n",
    "        X = np.zeros((len(sentences), self.max_sent_len))\n",
    "        for i, sent in enumerate(sentences):\n",
    "            for j, word in enumerate(sent):\n",
    "                if j == self.max_sent_len:\n",
    "                    break\n",
    "                X[i,j] = self.vocab[word] + 1 if word in self. vocab else 0\n",
    "\n",
    "        return X\n",
    "    \n",
    "    def preprocess(self, text):\n",
    "        \"\"\"Tokenizes a text into sentences and words (list of list of strings) if necessary,\n",
    "        and maps the tokens to indices into the vocabulary and the alphabet,\n",
    "        returning a 3D tensor for the characters and 2D tensor for the words.\"\"\"\n",
    "        \n",
    "        if type(text) != list:\n",
    "            text = text.replace('!','.') \n",
    "            text = text.replace(',', ' ')\n",
    "            sents = [word_tokenize(sent) for sent in sent_tokenize(text)]\n",
    "        else:\n",
    "            sents = text\n",
    "        \n",
    "        X1 = self._characterize(sents)\n",
    "        X2 = self._wordize(sents)\n",
    "        \n",
    "        return sents, X1, X2\n",
    "        \n",
    "    def tag(self, text, batch_size=2049):\n",
    "        \"\"\"Takes a text as a string or a list of list of string tokens,\n",
    "        returning a list of list of tuples (word, feature_bundle),\n",
    "        where feature_bundle is a dict of feature to feature_value.\"\"\"\n",
    "        \n",
    "        sentences, X1, X2 = self.preprocess(text)\n",
    "        pred = self.model.predict([X1, X2], verbose=1, batch_size=batch_size)\n",
    "        tagged_sents = []\n",
    "\n",
    "        for i, sent in enumerate(sentences):\n",
    "            tagged_sent = []\n",
    "            for j, word in enumerate(sent):\n",
    "                if j == self.max_sent_len:\n",
    "                    break\n",
    "                feature_bundle = {}\n",
    "                for k, feature_name in enumerate(self.feature_names):\n",
    "                    idx = np.argmax(pred[k][i,j])-1\n",
    "                    feature_value = self.labels_full[feature_name][self.labels[k][idx]]\n",
    "                    if feature_value != 'none':\n",
    "                        feature_bundle[feature_name] = feature_value\n",
    "                tagged_sent.append((word, feature_bundle))\n",
    "            tagged_sents.append(tagged_sent)\n",
    "        \n",
    "        return tagged_sents"
   ]
  },
  {
   "cell_type": "code",
   "execution_count": 52,
   "metadata": {},
   "outputs": [
    {
     "name": "stdout",
     "output_type": "stream",
     "text": [
      "---- 39.10462212562561 seconds ----\n"
     ]
    }
   ],
   "source": [
    "import time\n",
    "start_time = time.time()\n",
    "morph_anal = MorphologicalAnalyzer('../models/oe')\n",
    "print(\"---- {0} seconds ----\".format(time.time() - start_time))"
   ]
  },
  {
   "cell_type": "code",
   "execution_count": 36,
   "metadata": {},
   "outputs": [],
   "source": [
    "_,everything = load_corpus('../texts/oe/oe_all.txt', tagged=False)"
   ]
  },
  {
   "cell_type": "markdown",
   "metadata": {},
   "source": [
    "Testing on a laptop with a low-end i5 CPU (Intel© Core™ i5-8250U CPU @ 1.60GHz) with 4 independent cores and 16GB of RAM, we get:"
   ]
  },
  {
   "cell_type": "code",
   "execution_count": 37,
   "metadata": {},
   "outputs": [
    {
     "name": "stdout",
     "output_type": "stream",
     "text": [
      "110656/110656 [==============================] - 590s 5ms/step\n",
      "---- 687.4790625572205 seconds ----\n"
     ]
    }
   ],
   "source": [
    "start_time = time.time()\n",
    "tags = morph_anal.tag(everything, batch_size=256)\n",
    "print(\"---- {0} seconds ----\".format(time.time() - start_time))"
   ]
  },
  {
   "cell_type": "markdown",
   "metadata": {},
   "source": [
    "364 seconds for about 1.5MM words translates to a rate of ~ 4,100 words/sec.  This compares with the ~10,000 words/sec for just one feaature (POS) turned in by the Perceptron tagger.  So we lose 2.5x the speed of the individual tagger, but get all features output in return."
   ]
  },
  {
   "cell_type": "code",
   "execution_count": 53,
   "metadata": {},
   "outputs": [],
   "source": [
    "_, beowulf = load_corpus('../texts/oe/beowulf.txt', tagged = False)"
   ]
  },
  {
   "cell_type": "code",
   "execution_count": 54,
   "metadata": {},
   "outputs": [
    {
     "name": "stdout",
     "output_type": "stream",
     "text": [
      "3181/3181 [==============================] - 37s 12ms/step\n",
      "---- 39.57464933395386 seconds ----\n"
     ]
    }
   ],
   "source": [
    "start_time = time.time()\n",
    "tags = morph_anal.tag(beowulf, batch_size=512)\n",
    "print(\"---- {0} seconds ----\".format(time.time() - start_time))"
   ]
  },
  {
   "cell_type": "code",
   "execution_count": 55,
   "metadata": {},
   "outputs": [
    {
     "data": {
      "text/plain": [
       "[('Hwæt!',\n",
       "  {'inflection': 'inflecting',\n",
       "   'mood': 'imperative',\n",
       "   'number': 'singular',\n",
       "   'person': 'second person',\n",
       "   'pos': 'verb'}),\n",
       " ('We',\n",
       "  {'case': 'nominative',\n",
       "   'inflection': 'inflecting',\n",
       "   'number': 'plural',\n",
       "   'person': 'first person',\n",
       "   'pos': 'personal pronoun'}),\n",
       " ('Gardena', {'inflection': 'inflecting', 'pos': 'verb'}),\n",
       " ('in',\n",
       "  {'degree': 'no degree',\n",
       "   'inflection': 'non-inflecting',\n",
       "   'pos': 'preposition'}),\n",
       " ('geardagum,',\n",
       "  {'case': 'dative',\n",
       "   'gender': 'masculine',\n",
       "   'inflection': 'inflecting',\n",
       "   'number': 'plural',\n",
       "   'pos': 'common noun'})]"
      ]
     },
     "execution_count": 55,
     "metadata": {},
     "output_type": "execute_result"
    }
   ],
   "source": [
    "tags[0]"
   ]
  }
 ],
 "metadata": {
  "kernelspec": {
   "display_name": "Python 3",
   "language": "python",
   "name": "python3"
  },
  "language_info": {
   "codemirror_mode": {
    "name": "ipython",
    "version": 3
   },
   "file_extension": ".py",
   "mimetype": "text/x-python",
   "name": "python",
   "nbconvert_exporter": "python",
   "pygments_lexer": "ipython3",
   "version": "3.5.2"
  }
 },
 "nbformat": 4,
 "nbformat_minor": 2
}
