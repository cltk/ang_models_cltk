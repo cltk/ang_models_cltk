{
 "cells": [
  {
   "cell_type": "markdown",
   "metadata": {},
   "source": [
    "# Morphological Analysis for Small Annotated Corpora"
   ]
  },
  {
   "cell_type": "markdown",
   "metadata": {},
   "source": [
    "## 1.  A problem ... and an opportunity"
   ]
  },
  {
   "cell_type": "markdown",
   "metadata": {},
   "source": [
    "In a [2017 Replication Study of LSTM-based POS taggers (Horsmann and Zesch, 2017)](https://www.ltl.uni-due.de/wp-content/uploads/horsmannZesch_emnlp2017.pdf), which builds on a well-known 2016 investigation on [arXiv](https://arxiv.org/pdf/1604.05529.pdf), it is stated that there's a soft minimum of around 60k tokens for reasonable performance in the POS tagging task.\n",
    "\n",
    "The following chart shows the performance of various models, for a wide set of languages and language families.  Note that what is reported is 10-fold cross validation, which, depending on the experimental setup, may overestimate performance on a held out test set containing words not seen during training.\n",
    "\n",
    "<img src=\"pos_accuracies.png\"/>\n"
   ]
  },
  {
   "cell_type": "markdown",
   "metadata": {},
   "source": [
    "The CLTK project develops NLP tools for dead languages.  Annotated corpora for these, when available, are sometimes relaively small.  For [Old English](http://www.oldenglishaerobics.net/resources/magic_letter.pdf) (OE, a Germanic language), for example, the [ISWOC Treebank](http://iswoc.github.io/), contains only 28,300 tokens, so half or less of the recommended minimum.  The question therefore arises of whether the performance observed for Germanic languages, in the range of 90%-96+% accuracy, can be reproduced.\n",
    "\n",
    "Note the odd low outliter accuracy scores turned in by Icelandic.  It is relevant here because Icelandic is the modern language closest to OE, also because of its orthography: like OE, the Icelandic alphabet contains the letters ash, eth, thorn. "
   ]
  },
  {
   "cell_type": "markdown",
   "metadata": {},
   "source": [
    "That's the problem part.  The opportunity lies in the fact that the ISWOC annotations provide much more than mere POS tags.  Instead, each word is assigned values over an extensive set of morphological features.  These are listed in the XML for each annotated text:"
   ]
  },
  {
   "cell_type": "markdown",
   "metadata": {},
   "source": [
    "```xml\n",
    "<parts-of-speech>\n",
    "      <value tag=\"A-\" summary=\"adjective\"/>\n",
    "      <value tag=\"Df\" summary=\"adverb\"/>\n",
    "      <value tag=\"S-\" summary=\"article\"/>\n",
    "      <value tag=\"Ma\" summary=\"cardinal numeral\"/>\n",
    "      <value tag=\"Nb\" summary=\"common noun\"/>\n",
    "      <value tag=\"C-\" summary=\"conjunction\"/>\n",
    "      <value tag=\"Pd\" summary=\"demonstrative pronoun\"/>\n",
    "      <value tag=\"F-\" summary=\"foreign word\"/>\n",
    "      <value tag=\"Px\" summary=\"indefinite pronoun\"/>\n",
    "      <value tag=\"N-\" summary=\"infinitive marker\"/>\n",
    "      <value tag=\"I-\" summary=\"interjection\"/>\n",
    "      <value tag=\"Du\" summary=\"interrogative adverb\"/>\n",
    "      <value tag=\"Pi\" summary=\"interrogative pronoun\"/>\n",
    "      <value tag=\"Mo\" summary=\"ordinal numeral\"/>\n",
    "      <value tag=\"Pp\" summary=\"personal pronoun\"/>\n",
    "      <value tag=\"Pk\" summary=\"personal reflexive pronoun\"/>\n",
    "      <value tag=\"Ps\" summary=\"possessive pronoun\"/>\n",
    "      <value tag=\"Pt\" summary=\"possessive reflexive pronoun\"/>\n",
    "      <value tag=\"R-\" summary=\"preposition\"/>\n",
    "      <value tag=\"Ne\" summary=\"proper noun\"/>\n",
    "      <value tag=\"Py\" summary=\"quantifier\"/>\n",
    "      <value tag=\"Pc\" summary=\"reciprocal pronoun\"/>\n",
    "      <value tag=\"Dq\" summary=\"relative adverb\"/>\n",
    "      <value tag=\"Pr\" summary=\"relative pronoun\"/>\n",
    "      <value tag=\"G-\" summary=\"subjunction\"/>\n",
    "      <value tag=\"V-\" summary=\"verb\"/>\n",
    "      <value tag=\"X-\" summary=\"unassigned\"/>\n",
    "    </parts-of-speech>\n",
    "    <morphology>\n",
    "      <field tag=\"person\">\n",
    "        <value tag=\"1\" summary=\"first person\"/>\n",
    "        <value tag=\"2\" summary=\"second person\"/>\n",
    "        <value tag=\"3\" summary=\"third person\"/>\n",
    "        <value tag=\"x\" summary=\"uncertain person\"/>\n",
    "      </field>\n",
    "      <field tag=\"number\">\n",
    "        <value tag=\"s\" summary=\"singular\"/>\n",
    "        <value tag=\"d\" summary=\"dual\"/>\n",
    "        <value tag=\"p\" summary=\"plural\"/>\n",
    "        <value tag=\"x\" summary=\"uncertain number\"/>\n",
    "      </field>\n",
    "      <field tag=\"tense\">\n",
    "        <value tag=\"p\" summary=\"present\"/>\n",
    "        <value tag=\"i\" summary=\"imperfect\"/>\n",
    "        <value tag=\"r\" summary=\"perfect\"/>\n",
    "        <value tag=\"s\" summary=\"resultative\"/>\n",
    "        <value tag=\"a\" summary=\"aorist\"/>\n",
    "        <value tag=\"u\" summary=\"past\"/>\n",
    "        <value tag=\"l\" summary=\"pluperfect\"/>\n",
    "        <value tag=\"f\" summary=\"future\"/>\n",
    "        <value tag=\"t\" summary=\"future perfect\"/>\n",
    "        <value tag=\"x\" summary=\"uncertain tense\"/>\n",
    "      </field>\n",
    "      <field tag=\"mood\">\n",
    "        <value tag=\"i\" summary=\"indicative\"/>\n",
    "        <value tag=\"s\" summary=\"subjunctive\"/>\n",
    "        <value tag=\"m\" summary=\"imperative\"/>\n",
    "        <value tag=\"o\" summary=\"optative\"/>\n",
    "        <value tag=\"n\" summary=\"infinitive\"/>\n",
    "        <value tag=\"p\" summary=\"participle\"/>\n",
    "        <value tag=\"d\" summary=\"gerund\"/>\n",
    "        <value tag=\"g\" summary=\"gerundive\"/>\n",
    "        <value tag=\"u\" summary=\"supine\"/>\n",
    "        <value tag=\"x\" summary=\"uncertain mood\"/>\n",
    "        <value tag=\"y\" summary=\"finiteness unspecified\"/>\n",
    "        <value tag=\"e\" summary=\"indicative or subjunctive\"/>\n",
    "        <value tag=\"f\" summary=\"indicative or imperative\"/>\n",
    "        <value tag=\"h\" summary=\"subjunctive or imperative\"/>\n",
    "        <value tag=\"t\" summary=\"finite\"/>\n",
    "      </field>\n",
    "      <field tag=\"voice\">\n",
    "        <value tag=\"a\" summary=\"active\"/>\n",
    "        <value tag=\"m\" summary=\"middle\"/>\n",
    "        <value tag=\"p\" summary=\"passive\"/>\n",
    "        <value tag=\"e\" summary=\"middle or passive\"/>\n",
    "        <value tag=\"x\" summary=\"unspecified\"/>\n",
    "      </field>\n",
    "      <field tag=\"gender\">\n",
    "        <value tag=\"m\" summary=\"masculine\"/>\n",
    "        <value tag=\"f\" summary=\"feminine\"/>\n",
    "        <value tag=\"n\" summary=\"neuter\"/>\n",
    "        <value tag=\"p\" summary=\"masculine or feminine\"/>\n",
    "        <value tag=\"o\" summary=\"masculine or neuter\"/>\n",
    "        <value tag=\"r\" summary=\"feminine or neuter\"/>\n",
    "        <value tag=\"q\" summary=\"masculine, feminine or neuter\"/>\n",
    "        <value tag=\"x\" summary=\"uncertain gender\"/>\n",
    "      </field>\n",
    "      <field tag=\"case\">\n",
    "        <value tag=\"n\" summary=\"nominative\"/>\n",
    "        <value tag=\"a\" summary=\"accusative\"/>\n",
    "        <value tag=\"o\" summary=\"oblique\"/>\n",
    "        <value tag=\"g\" summary=\"genitive\"/>\n",
    "        <value tag=\"c\" summary=\"genitive or dative\"/>\n",
    "        <value tag=\"e\" summary=\"accusative or dative\"/>\n",
    "        <value tag=\"d\" summary=\"dative\"/>\n",
    "        <value tag=\"b\" summary=\"ablative\"/>\n",
    "        <value tag=\"i\" summary=\"instrumental\"/>\n",
    "        <value tag=\"l\" summary=\"locative\"/>\n",
    "        <value tag=\"v\" summary=\"vocative\"/>\n",
    "        <value tag=\"x\" summary=\"uncertain case\"/>\n",
    "        <value tag=\"z\" summary=\"no case\"/>\n",
    "      </field>\n",
    "      <field tag=\"degree\">\n",
    "        <value tag=\"p\" summary=\"positive\"/>\n",
    "        <value tag=\"c\" summary=\"comparative\"/>\n",
    "        <value tag=\"s\" summary=\"superlative\"/>\n",
    "        <value tag=\"x\" summary=\"uncertain degree\"/>\n",
    "        <value tag=\"z\" summary=\"no degree\"/>\n",
    "      </field>\n",
    "      <field tag=\"strength\">\n",
    "        <value tag=\"w\" summary=\"weak\"/>\n",
    "        <value tag=\"s\" summary=\"strong\"/>\n",
    "        <value tag=\"t\" summary=\"weak or strong\"/>\n",
    "      </field>\n",
    "      <field tag=\"inflection\">\n",
    "        <value tag=\"n\" summary=\"non-inflecting\"/>\n",
    "        <value tag=\"i\" summary=\"inflecting\"/>\n",
    "      </field>\n",
    "    </morphology>\n",
    "```"
   ]
  },
  {
   "cell_type": "markdown",
   "metadata": {},
   "source": [
    "Two questions arise:\n",
    "1.  Can we use these annotations to construct a single classifier that outputs *all* morphosyntactic features, in addition to the category feature (POS tag)?\n",
    "2.  Is it just possible that the complete morphological analysis may help the individual task, e.g. POS tagging?\n",
    "\n",
    "Let's get started."
   ]
  },
  {
   "cell_type": "markdown",
   "metadata": {},
   "source": [
    "## Baseline"
   ]
  },
  {
   "cell_type": "markdown",
   "metadata": {},
   "source": [
    "### Dataset"
   ]
  },
  {
   "cell_type": "markdown",
   "metadata": {},
   "source": [
    "The ISWOC treebank contains a few OE \"books\" that have been mostly annotated, for a total of 28,300 tokens.  The book construct provides a useful unit for splitting the dataset, because each distinct book is likely to contain idionyscratic words.  That is, by training on one set of books and testing on another, it is likely that out-of-vocabulary (OOV) tokens will occur in the test set.\n",
    "\n",
    "We reserve one book, an Anglo-Saxon translation of Orosius' *Histories*,  as a test set (1701 tokens), while the rest form the wraining set."
   ]
  },
  {
   "cell_type": "markdown",
   "metadata": {},
   "source": [
    "### NLTK Perceptron training"
   ]
  },
  {
   "cell_type": "markdown",
   "metadata": {},
   "source": [
    "Horsmann and Zesch use a conditional random fields (CRF) tagger as the baseline.  I have found that NLTK's [Perceptron tagger](http://www.nltk.org/_modules/nltk/tag/perceptron.html) to be more accurate (if somewhat slower) than the CRF tagger, so I use it here.\n",
    "\n",
    "The following output shows, for each of the morphological features above, the performance of a separately-trained Perceptron classifer.  The following statistics are given: 10-fold CV, accuracy and Cohen's Kappa on the test set, a confusion matrix, and time to tag *Beowulf*.\n",
    "\n",
    "Because tokens are often unvalued for some of the features (e.g. tense), raw accuracy can be misleading.  Kappa statistics are more useful in these cases."
   ]
  },
  {
   "cell_type": "markdown",
   "metadata": {
    "raw_mimetype": "text/restructuredtext"
   },
   "source": [
    "---------- pos ----------\n",
    "CV fold 1 accuracy = 0.897 kappa = 0.872 in 13.036 seconds\n",
    "CV fold 2 accuracy = 0.917 kappa = 0.897 in 13.327 seconds\n",
    "CV fold 3 accuracy = 0.912 kappa = 0.891 in 13.462 seconds\n",
    "CV fold 4 accuracy = 0.917 kappa = 0.897 in 13.798 seconds\n",
    "CV fold 5 accuracy = 0.927 kappa = 0.909 in 14.648 seconds\n",
    "CV fold 6 accuracy = 0.935 kappa = 0.919 in 13.200 seconds\n",
    "CV fold 7 accuracy = 0.93 kappa = 0.911 in 12.101 seconds\n",
    "CV fold 8 accuracy = 0.914 kappa = 0.893 in 13.064 seconds\n",
    "CV fold 9 accuracy = 0.927 kappa = 0.907 in 13.386 seconds\n",
    "CV fold 10 accuracy = 0.926 kappa = 0.907 in 12.897 seconds\n",
    "10-fold validation of model perceptron = 0.920\n",
    "Test of model perceptron for feature pos on unseen text:\n",
    "        accuracy = 0.840\n",
    "        kappa = 0.809\n",
    "\n",
    "Confusion matrix (rows = gold):\n",
    "    A-   C-   DF  DU  G-   NB  NE   PD  PI   PP  PS  PX  PY   R-   V-\n",
    "A-  31    0    3   0   0   22   1    0   0    0   0   0   2    0   19\n",
    "C-   0  117    0   0   2    0   0    0   0    0   0   0   1    0    1\n",
    "DF   3    1  115   0   2   16   3    8   0    0   0   0   2    3   10\n",
    "DU   0    0    0   2   0    0   0    0   0    0   0   0   0    0    0\n",
    "G-   0    2    6   0  59    1   0    7   0    0   0   0   0    1    2\n",
    "NB   3    0    3   0   0  244   0    0   0    0   0   0   0    0   14\n",
    "NE   0    0    2   0   0    8  86    0   0    0   0   0   0    0    0\n",
    "PD   0    0   10   0   8    3   1  128   0    0   0   0   0    0    1\n",
    "PI   0    2    0   0   0    0   0    0   1    0   0   0   0    0    0\n",
    "PP   1    0    0   0   0    3   0    0   0  126   2   0   0    0    0\n",
    "PS   0    0    1   0   0    0   0    0   0    1  27   0   0    0    0\n",
    "PX   0    0    0   0   0    4   0    0   0    0   0   7   0    0    0\n",
    "PY   8    1    1   0   0   22  14    1   0    0   1   0  74    0    3\n",
    "R-   0    0    4   0   0    6   1    0   0    0   0   0   4  159    0\n",
    "V-   3    0    1   0   0   28   0    0   0    0   0   0   2    8  230\n",
    "\n",
    "Time for model perceptron to tag texts/oe/beowulf.txt = 2.158 secs at 9795.290 words/sec\n",
    "\n",
    "---------- person ----------\n",
    "CV fold 1 accuracy = 0.955 kappa = 0.834 in 6.394 seconds\n",
    "CV fold 2 accuracy = 0.961 kappa = 0.858 in 6.156 seconds\n",
    "CV fold 3 accuracy = 0.966 kappa = 0.878 in 6.376 seconds\n",
    "CV fold 4 accuracy = 0.964 kappa = 0.863 in 6.294 seconds\n",
    "CV fold 5 accuracy = 0.955 kappa = 0.849 in 5.946 seconds\n",
    "CV fold 6 accuracy = 0.962 kappa = 0.865 in 7.360 seconds\n",
    "CV fold 7 accuracy = 0.963 kappa = 0.867 in 6.452 seconds\n",
    "CV fold 8 accuracy = 0.97 kappa = 0.886 in 6.639 seconds\n",
    "CV fold 9 accuracy = 0.959 kappa = 0.857 in 6.775 seconds\n",
    "CV fold 10 accuracy = 0.965 kappa = 0.874 in 6.102 seconds\n",
    "10-fold validation of model perceptron = 0.962\n",
    "Test of model perceptron for feature person on unseen text:\n",
    "        accuracy = 0.956\n",
    "        kappa = 0.791\n",
    "\n",
    "Confusion matrix (rows = gold):\n",
    "      -  1  2    3\n",
    "-  1335  0  1   11\n",
    "1     0  2  0    0\n",
    "2     0  0  0    1\n",
    "3    59  0  0  292\n",
    "\n",
    "Time for model perceptron to tag texts/oe/beowulf.txt = 0.973 secs at 21723.011 words/sec\n",
    "\n",
    "---------- number ----------\n",
    "CV fold 1 accuracy = 0.917 kappa = 0.843 in 8.375 seconds\n",
    "CV fold 2 accuracy = 0.909 kappa = 0.828 in 9.679 seconds\n",
    "CV fold 3 accuracy = 0.907 kappa = 0.836 in 9.840 seconds\n",
    "CV fold 4 accuracy = 0.911 kappa = 0.831 in 9.263 seconds\n",
    "CV fold 5 accuracy = 0.916 kappa = 0.848 in 8.697 seconds\n",
    "CV fold 6 accuracy = 0.912 kappa = 0.837 in 8.532 seconds\n",
    "CV fold 7 accuracy = 0.912 kappa = 0.834 in 8.704 seconds\n",
    "CV fold 8 accuracy = 0.913 kappa = 0.839 in 9.054 seconds\n",
    "CV fold 9 accuracy = 0.919 kappa = 0.846 in 9.099 seconds\n",
    "CV fold 10 accuracy = 0.909 kappa = 0.823 in 8.383 seconds\n",
    "10-fold validation of model perceptron = 0.913\n",
    "Test of model perceptron for feature number on unseen text:\n",
    "        accuracy = 0.827\n",
    "        kappa = 0.684\n",
    "\n",
    "Confusion matrix (rows = gold):\n",
    "     -    P    S   X\n",
    "-  516   16   78   0\n",
    "P   22  168   62   0\n",
    "S   36   30  696   6\n",
    "X    1   13   34  23\n",
    "\n",
    "Time for model perceptron to tag texts/oe/beowulf.txt = 1.234 secs at 17120.223 words/sec\n",
    "\n",
    "---------- tense ----------\n",
    "CV fold 1 accuracy = 0.97 kappa = 0.826 in 5.091 seconds\n",
    "CV fold 2 accuracy = 0.967 kappa = 0.824 in 5.721 seconds\n",
    "CV fold 3 accuracy = 0.97 kappa = 0.831 in 4.682 seconds\n",
    "CV fold 4 accuracy = 0.971 kappa = 0.829 in 4.706 seconds\n",
    "CV fold 5 accuracy = 0.965 kappa = 0.803 in 5.152 seconds\n",
    "CV fold 6 accuracy = 0.967 kappa = 0.814 in 5.052 seconds\n",
    "CV fold 7 accuracy = 0.97 kappa = 0.832 in 4.971 seconds\n",
    "CV fold 8 accuracy = 0.966 kappa = 0.813 in 4.778 seconds\n",
    "CV fold 9 accuracy = 0.969 kappa = 0.830 in 4.887 seconds\n",
    "CV fold 10 accuracy = 0.963 kappa = 0.795 in 4.817 seconds\n",
    "10-fold validation of model perceptron = 0.968\n",
    "Test of model perceptron for feature tense on unseen text:\n",
    "        accuracy = 0.960\n",
    "        kappa = 0.721\n",
    "\n",
    "Confusion matrix (rows = gold):\n",
    "      -   P    U\n",
    "-  1441   1   15\n",
    "P    16  33    2\n",
    "U    36   2  155\n",
    "\n",
    "Time for model perceptron to tag texts/oe/beowulf.txt = 0.854 secs at 24752.985 words/sec\n",
    "\n",
    "---------- mood ----------\n",
    "CV fold 1 accuracy = 0.959 kappa = 0.791 in 6.372 seconds\n",
    "CV fold 2 accuracy = 0.958 kappa = 0.786 in 6.560 seconds\n",
    "CV fold 3 accuracy = 0.957 kappa = 0.790 in 6.696 seconds\n",
    "CV fold 4 accuracy = 0.961 kappa = 0.804 in 7.416 seconds\n",
    "CV fold 5 accuracy = 0.962 kappa = 0.802 in 6.186 seconds\n",
    "CV fold 6 accuracy = 0.957 kappa = 0.780 in 6.235 seconds\n",
    "CV fold 7 accuracy = 0.953 kappa = 0.762 in 6.148 seconds\n",
    "CV fold 8 accuracy = 0.962 kappa = 0.798 in 6.205 seconds\n",
    "CV fold 9 accuracy = 0.958 kappa = 0.791 in 6.199 seconds\n",
    "CV fold 10 accuracy = 0.961 kappa = 0.805 in 6.200 seconds\n",
    "10-fold validation of model perceptron = 0.959\n",
    "Test of model perceptron for feature mood on unseen text:\n",
    "        accuracy = 0.952\n",
    "        kappa = 0.699\n",
    "\n",
    "Confusion matrix (rows = gold):\n",
    "      -    I  M   N   P  S   X\n",
    "-  1415    5  0   0   3  0   6\n",
    "I    29  120  0   0   0  0   1\n",
    "M     0    1  0   0   0  0   0\n",
    "N    12    1  0  13   1  0   0\n",
    "P     9    2  0   0  12  0   0\n",
    "S     6    1  0   0   0  6   0\n",
    "X     7    1  0   0   1  0  49\n",
    "\n",
    "Time for model perceptron to tag texts/oe/beowulf.txt = 1.067 secs at 19806.273 words/sec\n",
    "\n",
    "---------- gender ----------\n",
    "CV fold 1 accuracy = 0.89 kappa = 0.767 in 9.088 seconds\n",
    "CV fold 2 accuracy = 0.885 kappa = 0.756 in 9.011 seconds\n",
    "CV fold 3 accuracy = 0.888 kappa = 0.763 in 9.081 seconds\n",
    "CV fold 4 accuracy = 0.87 kappa = 0.725 in 9.156 seconds\n",
    "CV fold 5 accuracy = 0.885 kappa = 0.755 in 8.893 seconds\n",
    "CV fold 6 accuracy = 0.894 kappa = 0.777 in 9.337 seconds\n",
    "CV fold 7 accuracy = 0.901 kappa = 0.788 in 9.568 seconds\n",
    "CV fold 8 accuracy = 0.892 kappa = 0.772 in 9.374 seconds\n",
    "CV fold 9 accuracy = 0.884 kappa = 0.752 in 9.298 seconds\n",
    "CV fold 10 accuracy = 0.885 kappa = 0.755 in 9.722 seconds\n",
    "10-fold validation of model perceptron = 0.887\n",
    "Test of model perceptron for feature gender on unseen text:\n",
    "        accuracy = 0.798\n",
    "        kappa = 0.604\n",
    "\n",
    "Confusion matrix (rows = gold):\n",
    "     -   F    M    N  O  Q   X\n",
    "-  767  17   42    7  0  0   0\n",
    "F   15  74   26    6  0  0   0\n",
    "M   39   7  334   35  0  0   6\n",
    "N   30  12   45  138  0  0   5\n",
    "O    0   0    0    2  0  0   0\n",
    "Q    0   0    1    0  0  0   0\n",
    "X    7   3   43    6  0  0  34\n",
    "\n",
    "Time for model perceptron to tag texts/oe/beowulf.txt = 1.542 secs at 13705.564 words/sec\n",
    "\n",
    "---------- case ----------\n",
    "CV fold 1 accuracy = 0.888 kappa = 0.782 in 10.009 seconds\n",
    "CV fold 2 accuracy = 0.882 kappa = 0.763 in 10.338 seconds\n",
    "CV fold 3 accuracy = 0.883 kappa = 0.765 in 10.110 seconds\n",
    "CV fold 4 accuracy = 0.892 kappa = 0.783 in 9.754 seconds\n",
    "CV fold 5 accuracy = 0.874 kappa = 0.753 in 9.861 seconds\n",
    "CV fold 6 accuracy = 0.882 kappa = 0.764 in 10.964 seconds\n",
    "CV fold 7 accuracy = 0.878 kappa = 0.754 in 10.595 seconds\n",
    "CV fold 8 accuracy = 0.889 kappa = 0.779 in 12.556 seconds\n",
    "CV fold 9 accuracy = 0.881 kappa = 0.764 in 10.202 seconds\n",
    "CV fold 10 accuracy = 0.874 kappa = 0.752 in 9.930 seconds\n",
    "10-fold validation of model perceptron = 0.882\n",
    "Test of model perceptron for feature case on unseen text:\n",
    "        accuracy = 0.814\n",
    "        kappa = 0.635\n",
    "\n",
    "Confusion matrix (rows = gold):\n",
    "     -    A    D   G  I    N   X\n",
    "-  775   13   19   4  0   19   2\n",
    "A   25  122    1   2  2   37   3\n",
    "D    7    4  193   0  0    3   4\n",
    "G    8    5    3  60  0    9   0\n",
    "I    1    0    1   1  2    1   0\n",
    "N   40   37    5   2  0  192   7\n",
    "X   13   13    8  10  0   16  32\n",
    "\n",
    "Time for model perceptron to tag texts/oe/beowulf.txt = 1.408 secs at 15012.101 words/sec\n",
    "\n",
    "---------- degree ----------\n",
    "CV fold 1 accuracy = 0.969 kappa = 0.611 in 2.920 seconds\n",
    "CV fold 2 accuracy = 0.962 kappa = 0.578 in 2.767 seconds\n",
    "CV fold 3 accuracy = 0.959 kappa = 0.545 in 2.562 seconds\n",
    "CV fold 4 accuracy = 0.964 kappa = 0.577 in 2.597 seconds\n",
    "CV fold 5 accuracy = 0.964 kappa = 0.619 in 2.525 seconds\n",
    "CV fold 6 accuracy = 0.962 kappa = 0.543 in 2.515 seconds\n",
    "CV fold 7 accuracy = 0.961 kappa = 0.569 in 2.541 seconds\n",
    "CV fold 8 accuracy = 0.976 kappa = 0.689 in 2.641 seconds\n",
    "CV fold 9 accuracy = 0.957 kappa = 0.519 in 2.411 seconds\n",
    "CV fold 10 accuracy = 0.96 kappa = 0.558 in 2.509 seconds\n",
    "10-fold validation of model perceptron = 0.964\n",
    "Test of model perceptron for feature degree on unseen text:\n",
    "        accuracy = 0.907\n",
    "        kappa = 0.383\n",
    "\n",
    "Confusion matrix (rows = gold):\n",
    "      -  C   P  S  X   Z\n",
    "-  1436  0   4  1  0   4\n",
    "C     7  4   0  0  0   0\n",
    "P    72  0  64  0  0   3\n",
    "S     7  0   2  6  0   0\n",
    "X    18  0   0  0  0   8\n",
    "Z    28  0   5  0  0  32\n",
    "\n",
    "Time for model perceptron to tag texts/oe/beowulf.txt = 0.408 secs at 51824.308 words/sec\n",
    "\n",
    "---------- strength ----------\n",
    "CV fold 1 accuracy = 0.966 kappa = 0.629 in 2.157 seconds\n",
    "CV fold 2 accuracy = 0.966 kappa = 0.639 in 2.215 seconds\n",
    "CV fold 3 accuracy = 0.969 kappa = 0.690 in 2.150 seconds\n",
    "CV fold 4 accuracy = 0.965 kappa = 0.646 in 2.244 seconds\n",
    "CV fold 5 accuracy = 0.97 kappa = 0.673 in 2.120 seconds\n",
    "CV fold 6 accuracy = 0.966 kappa = 0.621 in 2.218 seconds\n",
    "CV fold 7 accuracy = 0.961 kappa = 0.609 in 2.145 seconds\n",
    "CV fold 8 accuracy = 0.968 kappa = 0.663 in 2.177 seconds\n",
    "CV fold 9 accuracy = 0.971 kappa = 0.680 in 2.199 seconds\n",
    "CV fold 10 accuracy = 0.96 kappa = 0.597 in 2.161 seconds\n",
    "10-fold validation of model perceptron = 0.966\n",
    "Test of model perceptron for feature strength on unseen text:\n",
    "        accuracy = 0.927\n",
    "        kappa = 0.439\n",
    "\n",
    "Confusion matrix (rows = gold):\n",
    "      -   S   T  W\n",
    "-  1467  11   0  0\n",
    "S    47  77   4  1\n",
    "T    44   7  25  0\n",
    "W    13   0   0  5\n",
    "\n",
    "Time for model perceptron to tag texts/oe/beowulf.txt = 0.372 secs at 56854.136 words/sec\n",
    "\n",
    "---------- inflection ----------\n",
    "CV fold 1 accuracy = 0.955 kappa = 0.863 in 2.307 seconds\n",
    "CV fold 2 accuracy = 0.961 kappa = 0.876 in 2.115 seconds\n",
    "CV fold 3 accuracy = 0.957 kappa = 0.860 in 2.174 seconds\n",
    "CV fold 4 accuracy = 0.958 kappa = 0.870 in 2.115 seconds\n",
    "CV fold 5 accuracy = 0.961 kappa = 0.879 in 2.118 seconds\n",
    "CV fold 6 accuracy = 0.956 kappa = 0.866 in 2.192 seconds\n",
    "CV fold 7 accuracy = 0.965 kappa = 0.889 in 2.176 seconds\n",
    "CV fold 8 accuracy = 0.962 kappa = 0.879 in 2.174 seconds\n",
    "CV fold 9 accuracy = 0.968 kappa = 0.900 in 2.292 seconds\n",
    "CV fold 10 accuracy = 0.967 kappa = 0.895 in 2.251 seconds\n",
    "10-fold validation of model perceptron = 0.961\n",
    "Test of model perceptron for feature inflection on unseen text:\n",
    "        accuracy = 0.931\n",
    "        kappa = 0.788\n",
    "\n",
    "Confusion matrix (rows = gold):\n",
    "      I    N\n",
    "I  1115   33\n",
    "N    87  466\n",
    "\n",
    "Time for model perceptron to tag texts/oe/beowulf.txt = 0.357 secs at 59155.522 words/sec\n",
    "```"
   ]
  },
  {
   "cell_type": "markdown",
   "metadata": {},
   "source": [
    "The 10-fold CV accuracy for POS tagging is 92%, placing the tagger in the general range of the Germanic LSTM-based approaches considered by Horsmann and Zesch. \n",
    "\n",
    "Test accuracy for POS tagging is considerably lower, at 84%, likely because of OOV terms.  The question then is whether this score can be improved upon. End users are likely to require at least 90% accuracy -- likely a lot more!"
   ]
  },
  {
   "cell_type": "markdown",
   "metadata": {},
   "source": [
    "## The boring bits ...\n",
    "### Character-level representation"
   ]
  },
  {
   "cell_type": "markdown",
   "metadata": {},
   "source": [
    "One of the inputs into the model described below consists of words in sentences represented as indices into an alphabet of letters.\n",
    "\n",
    "Script files for downloading and preprocessing the ISWOC treebank are available as part of the [old_english_models_cltk](https://github.com/cltk/old_english_models_cltk) repository.\n",
    "\n",
    "Let's load the sentences in the full set, along with their tags:"
   ]
  },
  {
   "cell_type": "code",
   "execution_count": 1,
   "metadata": {},
   "outputs": [],
   "source": [
    "import numpy as np\n",
    "\n",
    "def load_corpus(filename, tagged=True):\n",
    "    with open(filename, \"r\") as f:\n",
    "        sentences = []\n",
    "        words = {}\n",
    "        for line in f:\n",
    "            sentence = []\n",
    "            pairs = line.rstrip('\\n').split(' ')\n",
    "            for pair in pairs:\n",
    "                if pair != '':\n",
    "                    if tagged == True:\n",
    "                        word, tag = pair.split('/')\n",
    "                        sentence.append((word, tag))\n",
    "                        words[(word, tag)] = words.get((word, tag), 0) + 1                    \n",
    "                    else:\n",
    "                        sentence.append(pair)\n",
    "                        words[pair] = words.get(pair, 0) + 1\n",
    "            sentences.append(sentence)\n",
    "\n",
    "\n",
    "        return words, sentences"
   ]
  },
  {
   "cell_type": "code",
   "execution_count": 2,
   "metadata": {},
   "outputs": [],
   "source": [
    "words, sents = load_corpus('../corpora/oe/oe.all_features')"
   ]
  },
  {
   "cell_type": "markdown",
   "metadata": {},
   "source": [
    "Sentences are just lists of (token, taglist) pairs, where a taglist is the concatenation of all morphosyntactic features for the word."
   ]
  },
  {
   "cell_type": "code",
   "execution_count": 3,
   "metadata": {},
   "outputs": [
    {
     "data": {
      "text/plain": [
       "[[('Mæg', 'V-3spi-----i'),\n",
       "  ('gehyran', 'V----n-----n'),\n",
       "  ('se', 'Pd-s---mn--i'),\n",
       "  ('ðe', 'G----------n'),\n",
       "  ('wyle', 'V-3spx-----i'),\n",
       "  ('be', 'R----------n'),\n",
       "  ('þam', 'Pd-s---nd--i'),\n",
       "  ('halgan', 'A--s---ndpwi'),\n",
       "  ('mædene', 'Nb-s---nd--i'),\n",
       "  ('Eugenian', 'Ne-s---fd--i'),\n",
       "  ('Philyppus', 'Ne-s---mg--i'),\n",
       "  ('dæhter', 'Nb-s---fd--i'),\n",
       "  ('hu', 'Du---------n'),\n",
       "  ('heo', 'Pp3s---fn--i'),\n",
       "  ('ðurh', 'R----------n'),\n",
       "  ('mægðhad', 'Nb-s---ma--i'),\n",
       "  ('mærlice', 'Df-------p-i'),\n",
       "  ('þeah', 'V-3sui-----i'),\n",
       "  ('and', 'C----------n'),\n",
       "  ('þurh', 'R----------n'),\n",
       "  ('martyrdom', 'Nb-s---ma--i'),\n",
       "  ('þisne', 'Pd-s---ma--i'),\n",
       "  ('middaneard', 'Nb-s---ma--i'),\n",
       "  ('oferswað', 'V-xxui-----i')],\n",
       " [('Sum', 'Py-s---mnpsi'),\n",
       "  ('æþelboren', 'A--s---mnpsi'),\n",
       "  ('þægn', 'Nb-s---mn--i'),\n",
       "  ('wæs', 'V-3sui-----i'),\n",
       "  ('Philippus', 'Ne-s---mn--i'),\n",
       "  ('gehaten', 'V--xup-xx-ti'),\n",
       "  ('ðone', 'Pd-s---ma--i'),\n",
       "  ('asende', 'V-3spx-----i'),\n",
       "  ('se', 'Pd-s---mn--i'),\n",
       "  ('casere', 'Nb-s---mn--i'),\n",
       "  ('Commodus', 'Ne-s---mn--i'),\n",
       "  ('þe', 'G----------n'),\n",
       "  ('on', 'R----------n'),\n",
       "  ('ðam', 'Pd-p---md--i'),\n",
       "  ('dagum', 'Nb-p---md--i'),\n",
       "  ('rixode', 'V-3sux-----i'),\n",
       "  ('fram', 'R----------n'),\n",
       "  ('Rome.byrig', 'Ne-s---fd--i'),\n",
       "  ('to', 'R----------n'),\n",
       "  ('ðære', 'Pd-s---fd--i'),\n",
       "  ('byrig', 'Nb-s---fd--i'),\n",
       "  ('ðe', 'G----------n'),\n",
       "  ('is', 'V-3spi-----i'),\n",
       "  ('gehaten', 'V--xup-xx-ti'),\n",
       "  ('Alexandria', 'Ne-s---xx--i')]]"
      ]
     },
     "execution_count": 3,
     "metadata": {},
     "output_type": "execute_result"
    }
   ],
   "source": [
    "sents[:2]"
   ]
  },
  {
   "cell_type": "markdown",
   "metadata": {},
   "source": [
    "First we need the complete alphabet for the orthography.  In passing we'll get the maximum word length in the corpus."
   ]
  },
  {
   "cell_type": "code",
   "execution_count": 4,
   "metadata": {},
   "outputs": [],
   "source": [
    "def build_alphabet(words):\n",
    "    alphabet = {}\n",
    "    max_word_len = 0\n",
    "    \n",
    "    for word in words:\n",
    "        max_word_len = max(len(word), max_word_len)\n",
    "        for letter in word:\n",
    "            alphabet[letter] = alphabet.get(letter, 0) + 1\n",
    "            \n",
    "    return list(alphabet.keys()), max_word_len"
   ]
  },
  {
   "cell_type": "code",
   "execution_count": 5,
   "metadata": {},
   "outputs": [
    {

     "data": {
      "text/plain": [
       "18"
      ]
     },
     "execution_count": 5,
     "metadata": {},
     "output_type": "execute_result"

    }
   ],
   "source": [
    "alpha, max_word_len = build_alphabet([word for word,_ in words.keys()])\n",
    "print(max_word_len)\n",
    "max_word_len = 12"
   ]
  },
  {
   "cell_type": "markdown",
   "metadata": {},
   "source": [
    "We will use a shorter word length to avoid too many zeros in the representations.\n",
    "\n",
    "Similarly, looking at the lengths of sentences ..."
   ]
  },
  {
   "cell_type": "code",

   "execution_count": 7,
   "metadata": {},
   "outputs": [
    {
     "name": "stdout",
     "output_type": "stream",
     "text": [
      "{1: 12, 2: 52, 3: 109, 4: 224, 5: 204, 6: 217, 7: 199, 8: 186, 9: 168, 10: 128, 11: 116, 12: 112, 13: 95, 14: 78, 15: 95, 16: 76, 17: 50, 18: 54, 19: 52, 20: 33, 21: 35, 22: 21, 23: 19, 24: 25, 25: 22, 26: 19, 27: 17, 28: 21, 29: 13, 30: 12, 31: 5, 32: 11, 33: 2, 34: 5, 35: 5, 36: 5, 37: 1, 38: 2, 39: 4, 40: 6, 41: 2, 42: 2, 44: 2, 45: 3, 46: 1, 47: 3, 48: 4, 50: 3, 51: 1, 53: 3, 54: 1, 57: 1}\n"
     ]
    }
   ],
   "source": [

    "max_word_len = 12\n",
    "max_sent_len = 48"
   ]
  },
  {
   "cell_type": "markdown",
   "metadata": {},
   "source": [
    "... it looks as if we won't lose too much annotated data if we cut off the sentences at a maximum of 48 words."
   ]
  },
  {
   "cell_type": "markdown",
   "metadata": {},
   "source": [
    "Now we convert the textual representation of tokens into vectors of indices into the alphabet, and break up the feature string into distinct sets of one-shot vectors representing the output."
   ]
  },
  {
   "cell_type": "code",
   "execution_count": 8,
   "metadata": {},
   "outputs": [
    {
     "name": "stderr",
     "output_type": "stream",
     "text": [
      "Using TensorFlow backend.\n"
     ]
    }
   ],
   "source": [
    "from keras.utils.np_utils import to_categorical\n",
    "\n",
    "feature_names = ['pos', 'person', 'number', 'tense', 'mood', 'voice', 'gender', 'case', 'degree', 'strength', 'inflection']\n",
    "\n",
    "def indexify(string_list):\n",
    "    vocab = list(set(string_list))\n",
    "    return np.asarray([vocab.index(elem)+1 for elem in string_list]), vocab\n",
    "\n",
    "def convert_morphology(tagged_words):\n",
    "    slicers = [(0,2),2,3,4,5,6,7,8,9,10,11]\n",
    "    feature_tags = [[] for _ in slicers]\n",
    "    \n",
    "    for _, tag in tagged_words:\n",
    "        for i, slicer in enumerate(slicers):\n",
    "            start, end = slicer if type(slicer) == tuple else (slicer, slicer + 1)\n",
    "            feature_tags[i].append(tag[start:end])\n",
    "        \n",
    "    vectors = []\n",
    "    label_sets = []\n",
    "    indices = []\n",
    "    for feature in feature_tags:\n",
    "        idx, labels = indexify(feature)\n",
    "        label_sets.append(labels)\n",
    "        indices.append(idx)\n",
    "        vectors.append(to_categorical(idx))\n",
    "        \n",
    "    return vectors, label_sets, indices"
   ]
  },
  {
   "cell_type": "code",
   "execution_count": 9,
   "metadata": {},
   "outputs": [],
   "source": [
    "def select_letter_indices(word, alphabet, max_word_len):\n",
    "    v = np.zeros((max_word_len))\n",
    "    \n",
    "    for i in range(min(len(word), max_word_len)):\n",
    "        v[i] = alphabet.index(word[i]) + 1 if word[i] in alphabet else 0\n",
    "        \n",
    "    return v\n",
    "    \n",
    "def create_char_dataset(tagged_words, sentences, alphabet, max_sent_len, max_word_len):\n",
    "    num_sentences = len(sentences)\n",
    "    X = np.zeros((num_sentences, max_sent_len, max_word_len), dtype='int32')\n",
    "    \n",
    "    tagged_tokens = []\n",
    "    for i, sent in enumerate(sentences):\n",
    "        sent_len = len(sent)\n",
    "        for j, (word, tag) in enumerate(sent):\n",
    "            if j >= max_sent_len:\n",
    "                break\n",
    "            tagged_tokens.append((word, tag))\n",
    "            X[i, j, :] = select_letter_indices(word, alphabet, max_word_len)\n",
    "        \n",
    "    features, labels, _ = convert_morphology(tagged_tokens)\n",
    "    \n",
    "    Y = [np.zeros((num_sentences, max_sent_len, F.shape[1])) for F in features]\n",
    "    i = 0\n",
    "    for j, sent in enumerate(sentences):\n",
    "        for k in range(min(max_sent_len, len(sent))):\n",
    "            for f in range(len(features)):\n",
    "                Y[f][j, k, :] = features[f][i]\n",
    "            i += 1\n",
    "\n",
    "    return X, Y, labels, tagged_tokens"
   ]
  },
  {
   "cell_type": "code",
   "execution_count": 10,
   "metadata": {},
   "outputs": [],
   "source": [
    "X, Y, labels, _ = create_char_dataset(words, sents, alpha, max_sent_len, max_word_len)"
   ]
  },
  {
   "cell_type": "code",
   "execution_count": 11,
   "metadata": {},
   "outputs": [
    {
     "data": {
      "text/plain": [
       "[['Pd',\n",
       "  'Pp',\n",
       "  'A-',\n",
       "  'N-',\n",
       "  'C-',\n",
       "  'F-',\n",
       "  'Du',\n",
       "  'Df',\n",
       "  'Nb',\n",
       "  'Px',\n",
       "  'V-',\n",
       "  'Pi',\n",
       "  'Ps',\n",
       "  'R-',\n",
       "  'Ne',\n",
       "  'G-',\n",
       "  'I-',\n",
       "  'Py'],\n",
       " ['3', 'x', '1', '-', '2'],\n",
       " ['x', 's', 'p', '-', 'd'],\n",
       " ['u', 'p', '-'],\n",
       " ['n', 'm', 's', 'p', '-', 'i', 'x'],\n",
       " ['-'],\n",
       " ['q', 'r', 'f', 'n', 'm', 'o', 'p', '-', 'x'],\n",
       " ['a', 'n', 'o', '-', 'i', 'g', 'd', 'x', 'z'],\n",
       " ['c', 's', 'p', '-', 'x', 'z'],\n",
       " ['w', 't', 's', '-'],\n",
       " ['n', 'i']]"
      ]
     },
     "execution_count": 11,
     "metadata": {},
     "output_type": "execute_result"
    }
   ],
   "source": [
    "labels"
   ]
  },
  {
   "cell_type": "markdown",
   "metadata": {},
   "source": [
    "The input is a 3D tensor of dimensions (sentences, words, letters), and the output a list of 3D tensors of dimensions (sentences, words, one-shot-vector), one per feature (POS, case, etc.)"
   ]
  },
  {
   "cell_type": "code",
   "execution_count": 12,
   "metadata": {},
   "outputs": [
    {
     "data": {
      "text/plain": [
       "((2536, 48, 12), (2536, 48, 19))"
      ]
     },
     "execution_count": 12,
     "metadata": {},
     "output_type": "execute_result"
    }
   ],
   "source": [
    "X.shape, Y[0].shape"
   ]
  },
  {
   "cell_type": "markdown",
   "metadata": {},
   "source": [
    "Now we split the datasets into training and test sets.  The last 110 sentences of the corpus correspond to the Orosius text."
   ]
  },
  {
   "cell_type": "code",
   "execution_count": 13,
   "metadata": {},
   "outputs": [],
   "source": [
    "X_test, Y_test = X[-110:], [y[-110:] for y in Y]\n",
    "X = X[:-110]\n",
    "Y = [y[:-110] for y in Y]"
   ]
  },
  {
   "cell_type": "markdown",
   "metadata": {},
   "source": [
    "### Semantic vectors for words\n",
    "\n",
    "The second input consists of word2vec vectors representing the semantics of whole words.  The vectors were previously computed using the well-known skipgram + negative sampling method.\n",
    "\n",
    "Let's load the vocabulary and create forward and reverse indices."
   ]
  },
  {
   "cell_type": "code",
   "execution_count": 14,
   "metadata": {},
   "outputs": [],
   "source": [
    "def load_vocab(filename):\n",
    "    vocab = {}\n",
    "    rev_vocab = {}\n",
    "    \n",
    "    with open(filename, 'r') as f:\n",
    "        for pair in f:\n",
    "            idx, word = pair.split()\n",
    "            vocab[word] = int(idx)\n",
    "            rev_vocab[int(idx)] = word\n",
    "            \n",
    "    return vocab, rev_vocab"
   ]
  },
  {
   "cell_type": "code",
   "execution_count": 15,
   "metadata": {},
   "outputs": [],
   "source": [
    "vocab, rev_vocab = load_vocab('../models/oe/oe_types.txt')"
   ]
  },
  {
   "cell_type": "markdown",
   "metadata": {},
   "source": [
    "The vectors were computed using OE text found online.  All of the ISWOC corpus texts are included in this larger corpus, so there will be zero OOV terms during training and evaluation."
   ]
  },
  {
   "cell_type": "code",
   "execution_count": 16,

   "metadata": {},
   "outputs": [
    {
     "data": {
      "text/plain": [
       "325198"
      ]
     },
     "execution_count": 16,
     "metadata": {},
     "output_type": "execute_result"
    }
   ],
   "source": [
    "len(vocab)"
   ]
  },
  {
   "cell_type": "markdown",
   "metadata": {},
   "source": [
    "Next, we load and normalize the vectors themselves.  The zeroeth vector contains zeros, for empty word slots in sentences, and thus supporing Keras masking."
   ]
  },
  {
   "cell_type": "code",
   "execution_count": 22,
   "metadata": {},
   "outputs": [],
   "source": [
    "import pickle\n",
    "\n",
    "def load_vectors(filename):\n",
    "    with open(filename, 'rb') as f:\n",
    "        vectors = pickle.load(f)\n",
    "        \n",
    "    vectors = np.concatenate([np.zeros((1,300)),vectors],axis=0)\n",
    "    norm_vectors = np.divide(vectors, np.linalg.norm(vectors, axis=-1, keepdims=True))\n",
    "    norm_vectors[0] = 0\n",
    "    \n",
    "    return norm_vectors"
   ]
  },
  {
   "cell_type": "code",
   "execution_count": 23,
   "metadata": {},
   "outputs": [
    {
     "name": "stderr",
     "output_type": "stream",
     "text": [
      "/home/jds/tensorflow/lib/python3.5/site-packages/ipykernel_launcher.py:8: RuntimeWarning: invalid value encountered in true_divide\n",
      "  \n"
     ]
    }
   ],
   "source": [
    "vectors = load_vectors('../models/oe/oe_vectors.bin')"
   ]
  },
  {
   "cell_type": "markdown",
   "metadata": {},
   "source": [
    "Finally, we indexify the text into the vocabulary, thus linking the input sentences to entries in the vector table.  The latter will get loaded into a Keras embedding matrix."
   ]
  },
  {
   "cell_type": "code",
   "execution_count": 19,
   "metadata": {},
   "outputs": [],
   "source": [
    "def create_word_dataset(sentences, vocab, max_sent_len):\n",
    "    X = np.zeros((len(sentences), max_sent_len))\n",
    "    for i, sent in enumerate(sentences):\n",
    "        for j, (word, _) in enumerate(sent):\n",
    "            if j == max_sent_len:\n",
    "                break\n",
    "            X[i,j] = vocab[word]\n",
    "            \n",
    "    return X"
   ]
  },
  {
   "cell_type": "code",
   "execution_count": 20,
   "metadata": {},
   "outputs": [],
   "source": [
    "X2 = create_word_dataset(sents, vocab, max_sent_len)\n",
    "X2_train = X2[:-110]\n",
    "X2_test = X2[-110:]"
   ]
  },
  {
   "cell_type": "markdown",
   "metadata": {},
   "source": [
    "## The Model\n",
    "\n",
    "Now we can look at the model.  It is worth noting that the model presented here is the result of a long search over possible approaches, including various mixes of convolutional and recurrent networks, including encoder-decoder setups, inception convents with attention, character-only, word-only, and more.  \n",
    "\n",
    "Which is hardly to say this is the *best* approach; just the one that so far has worked best for the specific problem of morphological analysis of OE using the ISWOC data set.\n",
    "\n",
    "### The basic idea\n",
    "\n",
    "1.  We have two embedding matrices: one, entirely trained from random initialization, representing characters; the other representing semantic word vectors.  The latter is not trained.\n",
    "2.  The character vectors are each fed to a character Bi-LSTM, to yield a vector per word.\n",
    "3.  These character-based word vectors are concatenated to word2vec vectors for each word in the sentence.\n",
    "4.  The concatenated vectors from (3) are fed to a second Bi-LSTM, that again yields a vector per word.\n",
    "5.  The BiLSTM sequence output is passed through three fully-connected feedforward layers.\n",
    "6.  A sepearate softmax layer, one per feature, is then run over the result of step 5.\n",
    "\n",
    "This model is roughly comparable to the Word+Char model tested by Horsmann and Zesch.\n",
    "\n",
    "Note 1: One *could* use convolutions for processing the character-level information.  The trouble is that Keras convolutional networks do not support masking, while RNNs do.  Hence that use of RNNs throughout.\n",
    "\n",
    "Note 2: LSTMs tend to overfit easily, hence the aggressive use of regularization in the LSTM layers.\n"
   ]
  },
  {
   "cell_type": "markdown",
   "metadata": {},
   "source": [
    "<img src=\"model.png\"/>"
   ]
  },
  {
   "cell_type": "code",
   "execution_count": 21,
   "metadata": {},
   "outputs": [],
   "source": [
    "from keras import layers, Input\n",
    "from keras.models import Model\n",
    "from keras import regularizers\n",
    "import keras.backend as K\n",
    "\n",
    "def make_char_word_rnn_model(\n",
    "    word_vectors,\n",
    "    alphabet_size, \n",
    "    char_vector_width, \n",
    "    max_sent_len,\n",
    "    max_word_len, \n",
    "    char_lstm_size,\n",
    "    word_lstm_size,\n",
    "    morpho_sizes,\n",
    "    morpho_names,\n",
    "    dense_size):\n",
    "    \n",
    "    \n",
    "    # The Char portion\n",
    "    # sub-word features\n",
    "    char_embed = layers.Embedding(alphabet_size + 1,\n",
    "                             char_vector_width,\n",
    "                             input_length = max_word_len,\n",
    "                             trainable = True,\n",
    "                             mask_zero = True)  \n",
    "    \n",
    "    # encode the input\n",
    "    char_input = Input(shape=(max_sent_len, max_word_len, ), dtype='float32')\n",
    "    vectors = layers.TimeDistributed(char_embed)(char_input)\n",
    "    \n",
    "    # run word-level RNNs over the letters\n",
    "    word_rnn = layers.Bidirectional(layers.GRU(char_lstm_size, activation='tanh', \n",
    "                                                dropout=0.2, recurrent_dropout=0.2))\n",
    "    char_vectors = layers.TimeDistributed(word_rnn)(vectors)\n",
    "   \n",
    "    # The Word portion\n",
    "    # word vectors\n",
    "    word_embed = layers.Embedding(word_vectors.shape[0],\n",
    "                                  word_vectors.shape[1],\n",
    "                                  input_length=max_sent_len,\n",
    "                                  weights=[word_vectors],\n",
    "                                  trainable = False,\n",
    "                                  mask_zero = True)\n",
    "    \n",
    "    word_input = Input(shape=(max_sent_len,), dtype='float32')\n",
    "    word_vectors = word_embed(word_input)\n",
    "    \n",
    "    char_word_vectors = layers.concatenate([char_vectors, word_vectors], axis=-1)\n",
    "    \n",
    "    word_lstm = layers.Bidirectional(layers.LSTM(word_lstm_size, return_sequences=True, \n",
    "                                                 name='word_encoder',\n",
    "                                                 activation='tanh',\n",
    "                                                 kernel_regularizer=regularizers.l2(0.01),\n",
    "                                                 activity_regularizer=regularizers.l2(0.01),\n",
    "                                                 dropout=0.4, recurrent_dropout=0.4))(char_word_vectors)\n",
    "    \n",
    "    \n",
    "    # push through dense layers\n",
    "    out = layers.Dense(dense_size, activation='relu')(word_lstm)\n",
    "    out = layers.Dropout(rate=0.2)(out)\n",
    "    out = layers.Dense(dense_size, activation='relu')(out)\n",
    "    out = layers.Dropout(rate=0.2)(out)\n",
    "    out = layers.Dense(dense_size, activation='relu')(out)\n",
    "    out = layers.Dropout(rate=0.2)(out)\n",
    "    \n",
    "    # generate the output via softmax layers\n",
    "    outputs = [layers.Dense(morpho_size, activation='softmax', name=morpho_names[i])(out) \n",
    "               for i, morpho_size in enumerate(morpho_sizes)]\n",
    "\n",
    "    model = Model([char_input, word_input], outputs)\n",
    "\n",
    "    model.compile(optimizer='adam', loss='categorical_crossentropy', metrics=['acc'])\n",
    "    \n",
    "    \n",
    "    return model"
   ]
  },
  {
   "cell_type": "code",
   "execution_count": 25,
   "metadata": {},
   "outputs": [
    {
     "name": "stdout",
     "output_type": "stream",
     "text": [
      "__________________________________________________________________________________________________\n",
      "Layer (type)                    Output Shape         Param #     Connected to                     \n",
      "==================================================================================================\n",
      "input_3 (InputLayer)            (None, 48, 12)       0                                            \n",
      "__________________________________________________________________________________________________\n",
      "time_distributed_3 (TimeDistrib (None, 48, 12, 60)   3540        input_3[0][0]                    \n",
      "__________________________________________________________________________________________________\n",
      "input_4 (InputLayer)            (None, 48)           0                                            \n",
      "__________________________________________________________________________________________________\n",
      "time_distributed_4 (TimeDistrib (None, 48, 200)      96600       time_distributed_3[0][0]         \n",
      "__________________________________________________________________________________________________\n",
      "embedding_4 (Embedding)         (None, 48, 300)      97559700    input_4[0][0]                    \n",
      "__________________________________________________________________________________________________\n",
      "concatenate_2 (Concatenate)     (None, 48, 500)      0           time_distributed_4[0][0]         \n",
      "                                                                 embedding_4[0][0]                \n",
      "__________________________________________________________________________________________________\n",
      "bidirectional_4 (Bidirectional) (None, 48, 200)      480800      concatenate_2[0][0]              \n",
      "__________________________________________________________________________________________________\n",
      "dense_4 (Dense)                 (None, 48, 200)      40200       bidirectional_4[0][0]            \n",
      "__________________________________________________________________________________________________\n",
      "dropout_4 (Dropout)             (None, 48, 200)      0           dense_4[0][0]                    \n",
      "__________________________________________________________________________________________________\n",
      "dense_5 (Dense)                 (None, 48, 200)      40200       dropout_4[0][0]                  \n",
      "__________________________________________________________________________________________________\n",
      "dropout_5 (Dropout)             (None, 48, 200)      0           dense_5[0][0]                    \n",
      "__________________________________________________________________________________________________\n",
      "dense_6 (Dense)                 (None, 48, 200)      40200       dropout_5[0][0]                  \n",
      "__________________________________________________________________________________________________\n",
      "dropout_6 (Dropout)             (None, 48, 200)      0           dense_6[0][0]                    \n",
      "__________________________________________________________________________________________________\n",
      "pos (Dense)                     (None, 48, 19)       3819        dropout_6[0][0]                  \n",
      "__________________________________________________________________________________________________\n",
      "person (Dense)                  (None, 48, 6)        1206        dropout_6[0][0]                  \n",
      "__________________________________________________________________________________________________\n",
      "number (Dense)                  (None, 48, 6)        1206        dropout_6[0][0]                  \n",
      "__________________________________________________________________________________________________\n",
      "tense (Dense)                   (None, 48, 4)        804         dropout_6[0][0]                  \n",
      "__________________________________________________________________________________________________\n",
      "mood (Dense)                    (None, 48, 8)        1608        dropout_6[0][0]                  \n",
      "__________________________________________________________________________________________________\n",
      "voice (Dense)                   (None, 48, 2)        402         dropout_6[0][0]                  \n",
      "__________________________________________________________________________________________________\n",
      "gender (Dense)                  (None, 48, 10)       2010        dropout_6[0][0]                  \n",
      "__________________________________________________________________________________________________\n",
      "case (Dense)                    (None, 48, 10)       2010        dropout_6[0][0]                  \n",
      "__________________________________________________________________________________________________\n",
      "degree (Dense)                  (None, 48, 7)        1407        dropout_6[0][0]                  \n",
      "__________________________________________________________________________________________________\n",
      "strength (Dense)                (None, 48, 5)        1005        dropout_6[0][0]                  \n",
      "__________________________________________________________________________________________________\n",
      "inflection (Dense)              (None, 48, 3)        603         dropout_6[0][0]                  \n",
      "==================================================================================================\n",
      "Total params: 98,277,320\n",
      "Trainable params: 717,620\n",
      "Non-trainable params: 97,559,700\n",
      "__________________________________________________________________________________________________\n"
     ]
    }
   ],
   "source": [
    "m1 = make_char_word_rnn_model(vectors, len(alpha), \n",
    "                              60, max_sent_len, max_word_len,\n",
    "                              100, 100,\n",
    "                              [y.shape[2] for y in Y],\n",
    "                              feature_names,\n",
    "                              200)\n",
    "m1.summary()"
   ]
  },
  {
   "cell_type": "markdown",
   "metadata": {},
   "source": [
    "A callback will help visualize the training process.  Three plots will be produced:\n",
    "\n",
    "1.  Training and validation losses.\n",
    "2.  Training accuracy for each feature type.\n",
    "3.  Validation accuracy for each feature type. "
   ]
  },
  {
   "cell_type": "code",
   "execution_count": 23,
   "metadata": {},
   "outputs": [],
   "source": [
    "from matplotlib import pyplot as plt\n",
    "from IPython.display import clear_output\n",
    "import keras\n",
    "\n",
    "\n",
    "class PlotLosses(Callback):\n",
    "    def on_train_begin(self, logs={}):\n",
    "        self.i = 0\n",
    "        self.x = []\n",
    "        self.losses = []\n",
    "        self.val_losses = []\n",
    "        \n",
    "        self.accs = {}\n",
    "        self.val_accs = {}\n",
    "        for f in feature_names:\n",
    "            self.accs[f] = []\n",
    "            self.val_accs[f] = []\n",
    "        self.logs = []\n",
    "\n",
    "    def on_epoch_end(self, epoch, logs={}):\n",
    "        \n",
    "        self.logs.append(logs)\n",
    "        self.x.append(self.i)\n",
    "        self.losses.append(logs.get('loss'))\n",
    "        self.val_losses.append(logs.get('val_loss'))\n",
    "        \n",
    "        for f in feature_names:\n",
    "            self.accs[f].append(logs.get(f + '_acc'))\n",
    "            self.val_accs[f].append(logs.get('val_' + f + '_acc'))\n",
    "        self.i += 1\n",
    "        \n",
    "        clear_output(wait=True)\n",
    "        _, (ax1, ax2, ax3) = plt.subplots(1, 3, sharex=True, figsize=(20, 10))\n",
    "        ax1.plot(self.x, self.losses, label=\"loss\")\n",
    "        ax1.plot(self.x, self.val_losses, label=\"val_loss\")\n",
    "        \n",
    "        for f in feature_names:\n",
    "            ax2.plot(self.x, self.accs[f], label=(f + \"_acc\"))\n",
    "            ax3.plot(self.x, self.val_accs[f], label=\"val_\" + f + \"_acc\")\n",
    "            \n",
    "        ax1.legend()\n",
    "        ax2.legend()\n",
    "        ax3.legend()\n",
    "        plt.show();\n",
    "        \n",
    "        for f in feature_names:\n",
    "            print(f +  \" best:\", np.round(np.max(self.val_accs[f]), 3), \"last:\", np.round(self.val_accs[f][-1], 3))\n",
    "        \n",
    "plot_losses = PlotLosses()"
   ]
  },
  {
   "cell_type": "markdown",
   "metadata": {},
   "source": [
    "Now we are ready to train the model.  A smaller batch-size seems to work earlier on, though in a careful training regime it emerges that increasing the batch size later yields slightly higher test accuracy.\n",
    "\n",
    "We will split the training dataset again 95/05 so that a validation (\"dev\") set will provide information about the fitting process.\n"
   ]
  },
  {
   "cell_type": "code",
   "execution_count": 40,
   "metadata": {},
   "outputs": [
    {
     "data": {
      "image/png": "[encoded data removed]",
      "text/plain": [
       "<matplotlib.figure.Figure at 0x7fbcb1ac99e8>"
      ]
     },
     "metadata": {},
     "output_type": "display_data"
    },
    {
     "name": "stdout",
     "output_type": "stream",
     "text": [

      "pos best: 0.92 last: 0.908\n",
      "person best: 0.989 last: 0.987\n",
      "number best: 0.916 last: 0.906\n",
      "tense best: 0.99 last: 0.983\n",
      "mood best: 0.977 last: 0.972\n",
      "voice best: 1.0 last: 1.0\n",
      "gender best: 0.858 last: 0.846\n",
      "case best: 0.883 last: 0.869\n",
      "degree best: 0.941 last: 0.938\n",
      "strength best: 0.956 last: 0.953\n",
      "inflection best: 0.968 last: 0.957\n"
     ]
    }
   ],
   "source": [
    "idx = list(range(len(X)))\n",
    "np.random.shuffle(idx)\n",
    "history = m1.fit([X[idx], X2_train[idx]], [y[idx] for y in Y],\n",
    "                 batch_size=16, epochs=100,\n",
    "                 callbacks=[plot_losses],\n",
    "                 validation_data=([X_test, X2_test], [y for y in Y_test]))"
   ]
  },
  {
   "cell_type": "markdown",
   "metadata": {},
   "source": [
    "## Results\n",
    "\n",
    "Let's evaluate the model against the test set, the same that was used in evaluating the Perceptron tagger above."
   ]
  },
  {
   "cell_type": "code",
   "execution_count": 41,
   "metadata": {},
   "outputs": [
    {
     "name": "stdout",
     "output_type": "stream",
     "text": [
      "\r",
      "110/110 [==============================] - 1s 8ms/step\n"
     ]
    },
    {
     "data": {
      "text/plain": [
       "{'case': 0.87,\n",
       " 'degree': 0.941,\n",
       " 'gender': 0.852,\n",
       " 'inflection': 0.958,\n",
       " 'mood': 0.972,\n",
       " 'number': 0.907,\n",
       " 'person': 0.986,\n",
       " 'pos': 0.914,\n",
       " 'strength': 0.955,\n",
       " 'tense': 0.983,\n",
       " 'voice': 1.0}"
      ]
     },
     "execution_count": 41,
     "metadata": {},
     "output_type": "execute_result"
    }
   ],
   "source": [
    "dict(zip(feature_names, np.round(m1.evaluate([X_test, X2_test], [y for y in  Y_test], batch_size=256)[-11:], 3)))"
   ]
  },
  {
   "cell_type": "markdown",
   "metadata": {},
   "source": [
    "Comparing this result to the Perceptron tagger above, we see that the Word+Char model improves on NLTK's AveragedPerceptron across all features, and especially so for the POS tagging task.  \n",
    "\n",
    "The POS accuracy of 0.918 puts the Word+Char in the range of the Germanic taggers tested by Horsmann and Zesch, though somewhat on the lower end."
   ]
  },
  {
   "cell_type": "markdown",
   "metadata": {},
   "source": [
    "| Feature | Perceptron Tagger | Word+Char LSTM | Diff |\n",
    "----------|-------------------|----------------|------|\n",
    "|  POS | 0.840 | 0.914 | + 7.4% |\n",
    "| Person | 0.956 | 0.979 | + 2.3% |\n",
    "| Number | 0.827 | 0.91 | + 9.3% |\n",
    "| Tense | 0.960 | 0.979 | + 3.9% |\n",
    "| Mood | 0.952 | 0.967 | + 1.5% |\n",
    "| Gender | 0.798 | 0.858 | + 6.0% |\n",
    "| Case | 0.814 | 0.874 | + 6.0 % |\n",
    "| Degree | 0.907 | 0.935 | + 2.8% |\n",
    "| Strength | 0.927 | 0.954 | + 2.7% |\n",
    "| Inflection | 0.931 | 0.965 | + 3.4% |"
   ]
  },
  {
   "cell_type": "markdown",
   "metadata": {},
   "source": [
    "### Error Analysis"
   ]
  },
  {
   "cell_type": "code",
   "execution_count": 42,
   "metadata": {},
   "outputs": [],
   "source": [
    "import xml.etree.ElementTree as ET\n",
    "\n",
    "def extract_labels(labelsXML):\n",
    "    root = ET.fromstring(labelsXML)\n",
    "\n",
    "    labels = {}\n",
    "\n",
    "    for parts_of_speech in root.iter('parts-of-speech'):\n",
    "        labels['pos'] = {}\n",
    "\n",
    "        for value in parts_of_speech.iter('value'):\n",
    "            tag = value.attrib['tag']\n",
    "            label = value.attrib['summary']\n",
    "            labels['pos'][tag] = label\n",
    "\n",
    "    for field in root.iter('field'):\n",
    "        feature = field.attrib['tag']\n",
    "        labels[feature] = {}\n",
    "        labels[feature]['-'] = 'none'\n",
    "\n",
    "        for value in field.iter('value'):\n",
    "            tag = value.attrib['tag']\n",
    "            label = value.attrib['summary']\n",
    "            labels[feature][tag] = label\n",
    "            \n",
    "    return labels"
   ]
  },
  {
   "cell_type": "code",
   "execution_count": 43,
   "metadata": {},
   "outputs": [],
   "source": [
    "labelsXML = '''\n",
    "<tags>\n",
    "<parts-of-speech>\n",
    "      <value tag=\"A-\" summary=\"adjective\"/>\n",
    "      <value tag=\"Df\" summary=\"adverb\"/>\n",
    "      <value tag=\"S-\" summary=\"article\"/>\n",
    "      <value tag=\"Ma\" summary=\"cardinal numeral\"/>\n",
    "      <value tag=\"Nb\" summary=\"common noun\"/>\n",
    "      <value tag=\"C-\" summary=\"conjunction\"/>\n",
    "      <value tag=\"Pd\" summary=\"demonstrative pronoun\"/>\n",
    "      <value tag=\"F-\" summary=\"foreign word\"/>\n",
    "      <value tag=\"Px\" summary=\"indefinite pronoun\"/>\n",
    "      <value tag=\"N-\" summary=\"infinitive marker\"/>\n",
    "      <value tag=\"I-\" summary=\"interjection\"/>\n",
    "      <value tag=\"Du\" summary=\"interrogative adverb\"/>\n",
    "      <value tag=\"Pi\" summary=\"interrogative pronoun\"/>\n",
    "      <value tag=\"Mo\" summary=\"ordinal numeral\"/>\n",
    "      <value tag=\"Pp\" summary=\"personal pronoun\"/>\n",
    "      <value tag=\"Pk\" summary=\"personal reflexive pronoun\"/>\n",
    "      <value tag=\"Ps\" summary=\"possessive pronoun\"/>\n",
    "      <value tag=\"Pt\" summary=\"possessive reflexive pronoun\"/>\n",
    "      <value tag=\"R-\" summary=\"preposition\"/>\n",
    "      <value tag=\"Ne\" summary=\"proper noun\"/>\n",
    "      <value tag=\"Py\" summary=\"quantifier\"/>\n",
    "      <value tag=\"Pc\" summary=\"reciprocal pronoun\"/>\n",
    "      <value tag=\"Dq\" summary=\"relative adverb\"/>\n",
    "      <value tag=\"Pr\" summary=\"relative pronoun\"/>\n",
    "      <value tag=\"G-\" summary=\"subjunction\"/>\n",
    "      <value tag=\"V-\" summary=\"verb\"/>\n",
    "      <value tag=\"X-\" summary=\"unassigned\"/>\n",
    "    </parts-of-speech>\n",
    "    <morphology>\n",
    "      <field tag=\"person\">\n",
    "        <value tag=\"1\" summary=\"first person\"/>\n",
    "        <value tag=\"2\" summary=\"second person\"/>\n",
    "        <value tag=\"3\" summary=\"third person\"/>\n",
    "        <value tag=\"x\" summary=\"uncertain person\"/>\n",
    "      </field>\n",
    "      <field tag=\"number\">\n",
    "        <value tag=\"s\" summary=\"singular\"/>\n",
    "        <value tag=\"d\" summary=\"dual\"/>\n",
    "        <value tag=\"p\" summary=\"plural\"/>\n",
    "        <value tag=\"x\" summary=\"uncertain number\"/>\n",
    "      </field>\n",
    "      <field tag=\"tense\">\n",
    "        <value tag=\"p\" summary=\"present\"/>\n",
    "        <value tag=\"i\" summary=\"imperfect\"/>\n",
    "        <value tag=\"r\" summary=\"perfect\"/>\n",
    "        <value tag=\"s\" summary=\"resultative\"/>\n",
    "        <value tag=\"a\" summary=\"aorist\"/>\n",
    "        <value tag=\"u\" summary=\"past\"/>\n",
    "        <value tag=\"l\" summary=\"pluperfect\"/>\n",
    "        <value tag=\"f\" summary=\"future\"/>\n",
    "        <value tag=\"t\" summary=\"future perfect\"/>\n",
    "        <value tag=\"x\" summary=\"uncertain tense\"/>\n",
    "      </field>\n",
    "      <field tag=\"mood\">\n",
    "        <value tag=\"i\" summary=\"indicative\"/>\n",
    "        <value tag=\"s\" summary=\"subjunctive\"/>\n",
    "        <value tag=\"m\" summary=\"imperative\"/>\n",
    "        <value tag=\"o\" summary=\"optative\"/>\n",
    "        <value tag=\"n\" summary=\"infinitive\"/>\n",
    "        <value tag=\"p\" summary=\"participle\"/>\n",
    "        <value tag=\"d\" summary=\"gerund\"/>\n",
    "        <value tag=\"g\" summary=\"gerundive\"/>\n",
    "        <value tag=\"u\" summary=\"supine\"/>\n",
    "        <value tag=\"x\" summary=\"uncertain mood\"/>\n",
    "        <value tag=\"y\" summary=\"finiteness unspecified\"/>\n",
    "        <value tag=\"e\" summary=\"indicative or subjunctive\"/>\n",
    "        <value tag=\"f\" summary=\"indicative or imperative\"/>\n",
    "        <value tag=\"h\" summary=\"subjunctive or imperative\"/>\n",
    "        <value tag=\"t\" summary=\"finite\"/>\n",
    "      </field>\n",
    "      <field tag=\"voice\">\n",
    "        <value tag=\"a\" summary=\"active\"/>\n",
    "        <value tag=\"m\" summary=\"middle\"/>\n",
    "        <value tag=\"p\" summary=\"passive\"/>\n",
    "        <value tag=\"e\" summary=\"middle or passive\"/>\n",
    "        <value tag=\"x\" summary=\"unspecified\"/>\n",
    "      </field>\n",
    "      <field tag=\"gender\">\n",
    "        <value tag=\"m\" summary=\"masculine\"/>\n",
    "        <value tag=\"f\" summary=\"feminine\"/>\n",
    "        <value tag=\"n\" summary=\"neuter\"/>\n",
    "        <value tag=\"p\" summary=\"masculine or feminine\"/>\n",
    "        <value tag=\"o\" summary=\"masculine or neuter\"/>\n",
    "        <value tag=\"r\" summary=\"feminine or neuter\"/>\n",
    "        <value tag=\"q\" summary=\"masculine, feminine or neuter\"/>\n",
    "        <value tag=\"x\" summary=\"uncertain gender\"/>\n",
    "      </field>\n",
    "      <field tag=\"case\">\n",
    "        <value tag=\"n\" summary=\"nominative\"/>\n",
    "        <value tag=\"a\" summary=\"accusative\"/>\n",
    "        <value tag=\"o\" summary=\"oblique\"/>\n",
    "        <value tag=\"g\" summary=\"genitive\"/>\n",
    "        <value tag=\"c\" summary=\"genitive or dative\"/>\n",
    "        <value tag=\"e\" summary=\"accusative or dative\"/>\n",
    "        <value tag=\"d\" summary=\"dative\"/>\n",
    "        <value tag=\"b\" summary=\"ablative\"/>\n",
    "        <value tag=\"i\" summary=\"instrumental\"/>\n",
    "        <value tag=\"l\" summary=\"locative\"/>\n",
    "        <value tag=\"v\" summary=\"vocative\"/>\n",
    "        <value tag=\"x\" summary=\"uncertain case\"/>\n",
    "        <value tag=\"z\" summary=\"no case\"/>\n",
    "      </field>\n",
    "      <field tag=\"degree\">\n",
    "        <value tag=\"p\" summary=\"positive\"/>\n",
    "        <value tag=\"c\" summary=\"comparative\"/>\n",
    "        <value tag=\"s\" summary=\"superlative\"/>\n",
    "        <value tag=\"x\" summary=\"uncertain degree\"/>\n",
    "        <value tag=\"z\" summary=\"no degree\"/>\n",
    "      </field>\n",
    "      <field tag=\"strength\">\n",
    "        <value tag=\"w\" summary=\"weak\"/>\n",
    "        <value tag=\"s\" summary=\"strong\"/>\n",
    "        <value tag=\"t\" summary=\"weak or strong\"/>\n",
    "      </field>\n",
    "      <field tag=\"inflection\">\n",
    "        <value tag=\"n\" summary=\"non-inflecting\"/>\n",
    "        <value tag=\"i\" summary=\"inflecting\"/>\n",
    "      </field>\n",
    "    </morphology>\n",
    "</tags>\n",
    "'''"
   ]
  },
  {
   "cell_type": "code",
   "execution_count": 44,
   "metadata": {},
   "outputs": [
    {
     "data": {
      "text/plain": [
       "{'case': {'-': 'none',\n",
       "  'a': 'accusative',\n",
       "  'b': 'ablative',\n",
       "  'c': 'genitive or dative',\n",
       "  'd': 'dative',\n",
       "  'e': 'accusative or dative',\n",
       "  'g': 'genitive',\n",
       "  'i': 'instrumental',\n",
       "  'l': 'locative',\n",
       "  'n': 'nominative',\n",
       "  'o': 'oblique',\n",
       "  'v': 'vocative',\n",
       "  'x': 'uncertain case',\n",
       "  'z': 'no case'},\n",
       " 'degree': {'-': 'none',\n",
       "  'c': 'comparative',\n",
       "  'p': 'positive',\n",
       "  's': 'superlative',\n",
       "  'x': 'uncertain degree',\n",
       "  'z': 'no degree'},\n",
       " 'gender': {'-': 'none',\n",
       "  'f': 'feminine',\n",
       "  'm': 'masculine',\n",
       "  'n': 'neuter',\n",
       "  'o': 'masculine or neuter',\n",
       "  'p': 'masculine or feminine',\n",
       "  'q': 'masculine, feminine or neuter',\n",
       "  'r': 'feminine or neuter',\n",
       "  'x': 'uncertain gender'},\n",
       " 'inflection': {'-': 'none', 'i': 'inflecting', 'n': 'non-inflecting'},\n",
       " 'mood': {'-': 'none',\n",
       "  'd': 'gerund',\n",
       "  'e': 'indicative or subjunctive',\n",
       "  'f': 'indicative or imperative',\n",
       "  'g': 'gerundive',\n",
       "  'h': 'subjunctive or imperative',\n",
       "  'i': 'indicative',\n",
       "  'm': 'imperative',\n",
       "  'n': 'infinitive',\n",
       "  'o': 'optative',\n",
       "  'p': 'participle',\n",
       "  's': 'subjunctive',\n",
       "  't': 'finite',\n",
       "  'u': 'supine',\n",
       "  'x': 'uncertain mood',\n",
       "  'y': 'finiteness unspecified'},\n",
       " 'number': {'-': 'none',\n",
       "  'd': 'dual',\n",
       "  'p': 'plural',\n",
       "  's': 'singular',\n",
       "  'x': 'uncertain number'},\n",
       " 'person': {'-': 'none',\n",
       "  '1': 'first person',\n",
       "  '2': 'second person',\n",
       "  '3': 'third person',\n",
       "  'x': 'uncertain person'},\n",
       " 'pos': {'A-': 'adjective',\n",
       "  'C-': 'conjunction',\n",
       "  'Df': 'adverb',\n",
       "  'Dq': 'relative adverb',\n",
       "  'Du': 'interrogative adverb',\n",
       "  'F-': 'foreign word',\n",
       "  'G-': 'subjunction',\n",
       "  'I-': 'interjection',\n",
       "  'Ma': 'cardinal numeral',\n",
       "  'Mo': 'ordinal numeral',\n",
       "  'N-': 'infinitive marker',\n",
       "  'Nb': 'common noun',\n",
       "  'Ne': 'proper noun',\n",
       "  'Pc': 'reciprocal pronoun',\n",
       "  'Pd': 'demonstrative pronoun',\n",
       "  'Pi': 'interrogative pronoun',\n",
       "  'Pk': 'personal reflexive pronoun',\n",
       "  'Pp': 'personal pronoun',\n",
       "  'Pr': 'relative pronoun',\n",
       "  'Ps': 'possessive pronoun',\n",
       "  'Pt': 'possessive reflexive pronoun',\n",
       "  'Px': 'indefinite pronoun',\n",
       "  'Py': 'quantifier',\n",
       "  'R-': 'preposition',\n",
       "  'S-': 'article',\n",
       "  'V-': 'verb',\n",
       "  'X-': 'unassigned'},\n",
       " 'strength': {'-': 'none', 's': 'strong', 't': 'weak or strong', 'w': 'weak'},\n",
       " 'tense': {'-': 'none',\n",
       "  'a': 'aorist',\n",
       "  'f': 'future',\n",
       "  'i': 'imperfect',\n",
       "  'l': 'pluperfect',\n",
       "  'p': 'present',\n",
       "  'r': 'perfect',\n",
       "  's': 'resultative',\n",
       "  't': 'future perfect',\n",
       "  'u': 'past',\n",
       "  'x': 'uncertain tense'},\n",
       " 'voice': {'-': 'none',\n",
       "  'a': 'active',\n",
       "  'e': 'middle or passive',\n",
       "  'm': 'middle',\n",
       "  'p': 'passive',\n",
       "  'x': 'unspecified'}}"
      ]
     },
     "execution_count": 44,
     "metadata": {},
     "output_type": "execute_result"
    }
   ],
   "source": [
    "labels_full = extract_labels(labelsXML)\n",
    "labels_full"
   ]
  },
  {
   "cell_type": "code",
   "execution_count": 45,
   "metadata": {
    "scrolled": false
   },
   "outputs": [
    {
     "ename": "ImportError",
     "evalue": "No module named 'nltk'",
     "output_type": "error",
     "traceback": [
      "\u001b[0;31m---------------------------------------------------------------------------\u001b[0m",
      "\u001b[0;31mImportError\u001b[0m                               Traceback (most recent call last)",
      "\u001b[0;32m<ipython-input-45-cd1308fc4047>\u001b[0m in \u001b[0;36m<module>\u001b[0;34m()\u001b[0m\n\u001b[0;32m----> 1\u001b[0;31m \u001b[0;32mfrom\u001b[0m \u001b[0mnltk\u001b[0m\u001b[0;34m.\u001b[0m\u001b[0mmetrics\u001b[0m \u001b[0;32mimport\u001b[0m \u001b[0mConfusionMatrix\u001b[0m\u001b[0;34m\u001b[0m\u001b[0m\n\u001b[0m\u001b[1;32m      2\u001b[0m \u001b[0;34m\u001b[0m\u001b[0m\n\u001b[1;32m      3\u001b[0m \u001b[0mpredicted\u001b[0m \u001b[0;34m=\u001b[0m \u001b[0mm2\u001b[0m\u001b[0;34m.\u001b[0m\u001b[0mpredict\u001b[0m\u001b[0;34m(\u001b[0m\u001b[0;34m[\u001b[0m\u001b[0mX_test\u001b[0m\u001b[0;34m,\u001b[0m \u001b[0mX2_test\u001b[0m\u001b[0;34m]\u001b[0m\u001b[0;34m)\u001b[0m\u001b[0;34m\u001b[0m\u001b[0m\n\u001b[1;32m      4\u001b[0m \u001b[0;34m\u001b[0m\u001b[0m\n\u001b[1;32m      5\u001b[0m \u001b[0;32mfor\u001b[0m \u001b[0mi\u001b[0m\u001b[0;34m,\u001b[0m \u001b[0mfeature\u001b[0m \u001b[0;32min\u001b[0m \u001b[0menumerate\u001b[0m\u001b[0;34m(\u001b[0m\u001b[0mfeature_names\u001b[0m\u001b[0;34m)\u001b[0m\u001b[0;34m:\u001b[0m\u001b[0;34m\u001b[0m\u001b[0m\n",
      "\u001b[0;31mImportError\u001b[0m: No module named 'nltk'"
     ]
    }
   ],
   "source": [
    "from nltk.metrics import ConfusionMatrix\n",
    "\n",
    "predicted = m2.predict([X_test, X2_test])\n",
    "\n",
    "for i, feature in enumerate(feature_names):\n",
    "    print('---------------- ', feature, ' ----------------')\n",
    "    gold = np.ndarray.flatten(np.argmax(Y_test[i], axis=2))\n",
    "    mask = gold > 0\n",
    "    pred = np.ndarray.flatten(np.argmax(predicted[i], axis=2))\n",
    "    \n",
    "    gold_labels = [labels_full[feature][labels[i][idx-1]] for idx in gold[mask]]\n",
    "    pred_labels = [labels_full[feature][labels[i][idx-1]] for idx in pred[mask]]\n",
    "    print(ConfusionMatrix(gold_labels, pred_labels))"
   ]
  },
  {
   "cell_type": "markdown",
   "metadata": {},
   "source": [
    "A few considerations:\n",
    "\n",
    "* POS tagging, there is some equivocation between adjectives and nouns, perhaps explained by the observation that in OE adjectives are inflected like nouns for case, gender, number.  Also, because of its relatively free word order, adjectives are not predictable pre- or post-nominal or in predicate position.\n",
    "* Another issue for POS tagging is the \"subjunction\" annotation, which the tagger frequently mis-tags as adverbial.  These \"subjuction\" elements appear to be complementizers, such as *þy* \"therefore, because\", which might rightly be tagged as adverbial, i.e. merged in A-bar positions.\n",
    "* Forms annotated as quantifiers are tagged as adjectives by the classifier.  This again is linguistically defensible, as words like *micel* \"much, big, a lot\" and *manig* \"many\" are sometimes classed as adjectives (e.g. by [Wiktionary](https://en.wiktionary.org/wiki/manig))\n",
    "* As for case, there is a predictable equivocation between nominative and accusative case assignment.  This is due to syncretism in OE's case system: nominative and accusative forms overlap in cells of the nominal and adjectival paradigms -- principally in masculine and neuter lemmas --, and since word order is only weakly driven by syntax, disambiguation is difficult.\n",
    "* The last point might also explain the system's lack of accuracy in distinguishing masculine from neuter forms. Its apparent difficulty in distinguishing feminine from masculine forms likely lies in the phonological heterogeneity of the categories: on encountering a new word, it is difficult to guess at its gender from its form.\n"
   ]
  },
  {
   "cell_type": "markdown",
   "metadata": {},
   "source": [
    "## Productification\n",
    "\n",
    "To be useful in practice, the model parameters must be exported, and the preprocessing routines wrappend in a library."
   ]
  },
  {
   "cell_type": "markdown",
   "metadata": {},
   "source": [
    "### Saving and loading\n"
   ]
  },
  {
   "cell_type": "code",
   "execution_count": 46,
   "metadata": {},
   "outputs": [],
   "source": [
    "import pickle\n",
    "\n",
    "def save_morpho_model(path, model, alphabet, feature_names, labels, labels_full):\n",
    "    model.save(path + \"/\" + 'morpho_model.h5')\n",
    "        \n",
    "    with open(path + '/' + 'morpho_labels.pickle', 'wb') as out:\n",
    "        pickle.dump(alphabet, out)\n",
    "        pickle.dump(feature_names, out)\n",
    "        pickle.dump(labels, out)\n",
    "        pickle.dump(labels_full, out)\n",
    "    "
   ]
  },
  {
   "cell_type": "code",
   "execution_count": 47,
   "metadata": {},
   "outputs": [],
   "source": [
    "save_morpho_model('../models/oe', m1, alpha, feature_names, labels, labels_full)"
   ]
  },
  {
   "cell_type": "markdown",
   "metadata": {},
   "source": [
    "The loading of the model, the preprocessing and the tagging are best wrapped into a class."
   ]
  },
  {
   "cell_type": "code",
   "execution_count": 51,
   "metadata": {},
   "outputs": [
    {
     "name": "stderr",
     "output_type": "stream",
     "text": [
      "/home/jds/tensorflow-gpu/lib/python3.5/site-packages/h5py/__init__.py:36: FutureWarning: Conversion of the second argument of issubdtype from `float` to `np.floating` is deprecated. In future, it will be treated as `np.float64 == np.dtype(float).type`.\n",
      "  from ._conv import register_converters as _register_converters\n",
      "Using TensorFlow backend.\n"
     ]
    }
   ],
   "source": [
    "from keras.models import load_model\n",
    "import pickle\n",
    "import numpy as np\n",
    "\n",
    "class MorphologicalAnalyzer:\n",
    "    def __init__(self, path):\n",
    "        \"\"\"Loads the model from a saved HDF5 file,\n",
    "        along with related data structures for taglibs and vocabularies.\"\"\"\n",
    "        \n",
    "        self.model = keras.models.load_model(path + '/' + 'morpho_model.h5')\n",
    "\n",
    "        with open(path + '/' + 'morpho_labels.pickle', 'rb') as inp:\n",
    "            self.alphabet = pickle.load(inp)\n",
    "            self.feature_names = pickle.load(inp)\n",
    "            self.labels = pickle.load(inp)\n",
    "            self.labels_full = pickle.load(inp)\n",
    "\n",
    "        input_layer = self.model.get_layer(index=0)\n",
    "\n",
    "        self.max_sent_len = input_layer.input_shape[1]\n",
    "        self.max_word_len = input_layer.input_shape[2]\n",
    "        \n",
    "        self.vocab = {}\n",
    "        with open(path + '/' + 'oe_types.txt', 'r') as f:\n",
    "            for pair in f:\n",
    "                idx, word = pair.split()\n",
    "                self.vocab[word] = int(idx)\n",
    "                \n",
    "        \n",
    "    def _select_letter_indices(self, word):\n",
    "        \"\"\"For an input words, returns a vector of indices into the alphabet.\"\"\"\n",
    "        v = np.zeros((self.max_word_len))\n",
    "    \n",
    "        for i in range(min(len(word), self.max_word_len)):\n",
    "            v[i] = self.alphabet.index(word[i]) + 1 if word[i] in self.alphabet else 0\n",
    "\n",
    "        return v\n",
    "        \n",
    "    def _characterize(self, sentences):\n",
    "        \"\"\"For a list of sentences, returns a tensor of dimension \n",
    "        (num sentences, words_per_sentence, letters_per_word)\n",
    "        of indices into the alphabet.\"\"\"\n",
    "        \n",
    "        X = np.zeros((len(sentences), self.max_sent_len, self.max_word_len), dtype='int32')\n",
    "    \n",
    "        for i, sent in enumerate(sentences):\n",
    "            for j, word in enumerate(sent):\n",
    "                if j >= self.max_sent_len:\n",
    "                    break\n",
    "                X[i, j, :] = self._select_letter_indices(word)\n",
    "\n",
    "        return X\n",
    "    \n",
    "    def _wordize(self, sentences):\n",
    "        \"\"\"For a list of sentences, returns a tensor of dimension\n",
    "        (num_sentences, words_per_sentence)\n",
    "        of indices into the vocabulary.\"\"\"\n",
    "        \n",
    "        X = np.zeros((len(sentences), self.max_sent_len))\n",
    "        for i, sent in enumerate(sentences):\n",
    "            for j, word in enumerate(sent):\n",
    "                if j == self.max_sent_len:\n",
    "                    break\n",
    "                X[i,j] = self.vocab[word] + 1 if word in self. vocab else 0\n",
    "\n",
    "        return X\n",
    "    \n",
    "    def preprocess(self, text):\n",
    "        \"\"\"Tokenizes a text into sentences and words (list of list of strings) if necessary,\n",
    "        and maps the tokens to indices into the vocabulary and the alphabet,\n",
    "        returning a 3D tensor for the characters and 2D tensor for the words.\"\"\"\n",
    "        \n",
    "        if type(text) != list:\n",
    "            text = text.replace('!','.') \n",
    "            text = text.replace(',', ' ')\n",
    "            sents = [word_tokenize(sent) for sent in sent_tokenize(text)]\n",
    "        else:\n",
    "            sents = text\n",
    "        \n",
    "        X1 = self._characterize(sents)\n",
    "        X2 = self._wordize(sents)\n",
    "        \n",
    "        return sents, X1, X2\n",
    "        \n",
    "    def tag(self, text, batch_size=2049):\n",
    "        \"\"\"Takes a text as a string or a list of list of string tokens,\n",
    "        returning a list of list of tuples (word, feature_bundle),\n",
    "        where feature_bundle is a dict of feature to feature_value.\"\"\"\n",
    "        \n",
    "        sentences, X1, X2 = self.preprocess(text)\n",
    "        pred = self.model.predict([X1, X2], verbose=1, batch_size=batch_size)\n",
    "        tagged_sents = []\n",
    "\n",
    "        for i, sent in enumerate(sentences):\n",
    "            tagged_sent = []\n",
    "            for j, word in enumerate(sent):\n",
    "                if j == self.max_sent_len:\n",
    "                    break\n",
    "                feature_bundle = {}\n",
    "                for k, feature_name in enumerate(self.feature_names):\n",
    "                    idx = np.argmax(pred[k][i,j])-1\n",
    "                    feature_value = self.labels_full[feature_name][self.labels[k][idx]]\n",
    "                    if feature_value != 'none':\n",
    "                        feature_bundle[feature_name] = feature_value\n",
    "                tagged_sent.append((word, feature_bundle))\n",
    "            tagged_sents.append(tagged_sent)\n",
    "        \n",
    "        return tagged_sents"
   ]
  },
  {
   "cell_type": "code",

   "execution_count": 52,
   "metadata": {},
   "outputs": [
    {
     "name": "stdout",
     "output_type": "stream",
     "text": [
      "---- 39.10462212562561 seconds ----\n"
     ]
    }
   ],
   "source": [
    "import time\n",
    "start_time = time.time()\n",
    "morph_anal = MorphologicalAnalyzer('../models/oe')\n",
    "print(\"---- {0} seconds ----\".format(time.time() - start_time))"
   ]
  },
  {
   "cell_type": "code",
   "execution_count": 36,
   "metadata": {},
   "outputs": [],
   "source": [
    "_,everything = load_corpus('../texts/oe/oe_all.txt', tagged=False)"
   ]
  },
  {
   "cell_type": "markdown",
   "metadata": {},
   "source": [
    "Testing on a laptop with a low-end i5 CPU (Intel© Core™ i5-8250U CPU @ 1.60GHz) with 4 independent cores and 16GB of RAM, we get:"
   ]
  },
  {
   "cell_type": "code",
   "execution_count": 37,
   "metadata": {},
   "outputs": [
    {
     "name": "stdout",
     "output_type": "stream",
     "text": [
      "110656/110656 [==============================] - 590s 5ms/step\n",
      "---- 687.4790625572205 seconds ----\n"
     ]
    }
   ],
   "source": [
    "start_time = time.time()\n",
    "tags = morph_anal.tag(everything, batch_size=256)\n",
    "print(\"---- {0} seconds ----\".format(time.time() - start_time))"
   ]
  },
  {
   "cell_type": "markdown",
   "metadata": {},
   "source": [
    "364 seconds for about 1.5MM words translates to a rate of ~ 4,100 words/sec.  This compares with the ~10,000 words/sec for just one feaature (POS) turned in by the Perceptron tagger.  So we lose 2.5x the speed of the individual tagger, but get all features output in return."
   ]
  },
  {
   "cell_type": "code",
   "execution_count": 53,
   "metadata": {},
   "outputs": [],
   "source": [
    "_, beowulf = load_corpus('../texts/oe/beowulf.txt', tagged = False)"
   ]
  },
  {
   "cell_type": "code",
   "execution_count": 54,
   "metadata": {},
   "outputs": [
    {
     "name": "stdout",
     "output_type": "stream",
     "text": [
      "3181/3181 [==============================] - 37s 12ms/step\n",
      "---- 39.57464933395386 seconds ----\n"
     ]
    }
   ],
   "source": [
    "start_time = time.time()\n",
    "tags = morph_anal.tag(beowulf, batch_size=512)\n",
    "print(\"---- {0} seconds ----\".format(time.time() - start_time))"
   ]
  },
  {
   "cell_type": "code",
   "execution_count": 55,
   "metadata": {},
   "outputs": [
    {
     "data": {
      "text/plain": [
       "[('Hwæt!',\n",
       "  {'inflection': 'inflecting',\n",
       "   'mood': 'imperative',\n",
       "   'number': 'singular',\n",
       "   'person': 'second person',\n",
       "   'pos': 'verb'}),\n",
       " ('We',\n",
       "  {'case': 'nominative',\n",
       "   'inflection': 'inflecting',\n",
       "   'number': 'plural',\n",
       "   'person': 'first person',\n",
       "   'pos': 'personal pronoun'}),\n",
       " ('Gardena', {'inflection': 'inflecting', 'pos': 'verb'}),\n",
       " ('in',\n",
       "  {'degree': 'no degree',\n",
       "   'inflection': 'non-inflecting',\n",
       "   'pos': 'preposition'}),\n",
       " ('geardagum,',\n",
       "  {'case': 'dative',\n",
       "   'gender': 'masculine',\n",
       "   'inflection': 'inflecting',\n",
       "   'number': 'plural',\n",
       "   'pos': 'common noun'})]"
      ]
     },
     "execution_count": 55,
     "metadata": {},
     "output_type": "execute_result"
    }
   ],
   "source": [
    "tags[0]"
   ]
  },
  {
   "cell_type": "code",
   "execution_count": null,
   "metadata": {},
   "outputs": [],
   "source": []
  }
 ],
 "metadata": {
  "celltoolbar": "Raw Cell Format",
  "kernelspec": {
   "display_name": "Python 3",
   "language": "python",
   "name": "python3"
  },
  "language_info": {
   "codemirror_mode": {
    "name": "ipython",
    "version": 3
   },
   "file_extension": ".py",
   "mimetype": "text/x-python",
   "name": "python",
   "nbconvert_exporter": "python",
   "pygments_lexer": "ipython3",
   "version": "3.5.2"
  }
 },
 "nbformat": 4,
 "nbformat_minor": 2
}
